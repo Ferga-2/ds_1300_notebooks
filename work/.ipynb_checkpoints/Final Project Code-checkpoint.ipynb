{
 "cells": [
  {
   "cell_type": "markdown",
   "id": "ea1d772b-48f3-45db-9f11-b41b13362ce8",
   "metadata": {
    "tags": []
   },
   "source": [
    "## Is Draft Position  an Accurate Predictor of Player Potential"
   ]
  },
  {
   "cell_type": "markdown",
   "id": "28d3dcdb-ca8b-4ebd-93d7-79150a88b254",
   "metadata": {},
   "source": [
    "Each NBA Draft there are 2 rounds and 30 picks in each Round\n",
    "Teams generally draft best player available\n",
    "However, every draft there are always players who drop in the draft\n",
    "And are considered steals."
   ]
  },
  {
   "cell_type": "markdown",
   "id": "d4aa8c3a-3f44-499f-90e5-fcd6a638f8ad",
   "metadata": {},
   "source": [
    "With this question we want to find correlation between draft slots and player potential"
   ]
  },
  {
   "cell_type": "markdown",
   "id": "90cb82c5-4143-442c-8705-1ce87a372229",
   "metadata": {},
   "source": [
    "We will use BPM, WS/48, Vorp, and PER as metrics to measure career success"
   ]
  },
  {
   "cell_type": "markdown",
   "id": "e97c551c-9151-4f90-92a9-dd17e68f48a1",
   "metadata": {},
   "source": [
    "Data will be gathered from the 10 most recent NBA Drafts in which players have completed a minimum of 4 seasons\n",
    "That range will span from 2007-2016"
   ]
  },
  {
   "cell_type": "markdown",
   "id": "b8651b24-0d19-41c9-b173-7577f5146add",
   "metadata": {},
   "source": [
    "BPM:\n",
    "BPM is a basketball box score-based metric that estimates a basketball player’s contribution to the team when that player is on the court"
   ]
  },
  {
   "cell_type": "markdown",
   "id": "cf4f1e69-1828-4ece-a5bd-68435bcda8b4",
   "metadata": {},
   "source": [
    "WS/48:\n",
    "Win Shares is a player statistic which attempts to divvy up credit for team success to the individuals on the team per 48 min.\n"
   ]
  },
  {
   "cell_type": "markdown",
   "id": "916b7f34-3c11-4108-a80b-7a37fb23283a",
   "metadata": {},
   "source": [
    "VORP:\n",
    "(Value over replacement player) Converts the value of the Box Plus Minus into an estimate of the player’s contribution, which is parameterized with respect to the Replacement Player"
   ]
  },
  {
   "cell_type": "markdown",
   "id": "74164ef9-7abb-4e0c-85ee-f303e1d745cc",
   "metadata": {},
   "source": [
    "PER:\n",
    "PER sums up all a player's positive accomplishments, subtracts the negative accomplishments, and returns a per-minute rating of a player's performance."
   ]
  },
  {
   "cell_type": "markdown",
   "id": "96ffdb34-1905-4508-bb0b-eba9009c755e",
   "metadata": {},
   "source": [
    "After conclusions are gathered from Data a linear regression will be used on each statistic to conclude how accurate the draft is at predicting player potential"
   ]
  },
  {
   "cell_type": "markdown",
   "id": "43356c6c-5917-4c76-bb00-03db3493c23c",
   "metadata": {
    "tags": []
   },
   "source": [
    "## DataSets"
   ]
  },
  {
   "cell_type": "code",
   "execution_count": 38,
   "id": "2a63367e-1a67-4c10-831b-69c0fa560b32",
   "metadata": {
    "tags": []
   },
   "outputs": [],
   "source": [
    "import pandas as pd\n",
    "import numpy as np\n",
    "import matplotlib\n",
    "import matplotlib.pyplot as plt\n",
    "import seaborn as sns\n",
    "from sklearn.linear_model import LinearRegression\n",
    "import dataframe_image as dfi"
   ]
  },
  {
   "cell_type": "code",
   "execution_count": 39,
   "id": "3ab16889-7c8d-454c-9ccb-8a5ef6b0aa91",
   "metadata": {},
   "outputs": [],
   "source": [
    "Draft_2007 = pd.read_csv('Draft_2007.txt',delimiter=\",\")\n",
    "Draft_2008 = pd.read_csv('Draft_2008.txt',delimiter=\",\")\n",
    "Draft_2009 = pd.read_csv('Draft_2009.txt',delimiter=\",\")\n",
    "Draft_2010 = pd.read_csv('Draft_2010.txt',delimiter=\",\")\n",
    "Draft_2011 = pd.read_csv('Draft_2011.txt',delimiter=\",\")\n",
    "Draft_2012 = pd.read_csv('Draft_2012.txt',delimiter=\",\")\n",
    "Draft_2013 = pd.read_csv('Draft_2013.txt',delimiter=\",\")\n",
    "Draft_2014 = pd.read_csv('Draft_2014.txt',delimiter=\",\")\n",
    "Draft_2015 = pd.read_csv('Draft_2015.txt',delimiter=\",\")\n",
    "Draft_2016 = pd.read_csv('Draft_2016.txt',delimiter=\",\")"
   ]
  },
  {
   "cell_type": "code",
   "execution_count": 40,
   "id": "1dcc119c-3001-4f83-94e9-5945611637ab",
   "metadata": {
    "tags": []
   },
   "outputs": [],
   "source": [
    "#DataFrame for Advanced stats for the 2007 Draft Class\n",
    "Draft_2007 = Draft_2007.drop(0)"
   ]
  },
  {
   "cell_type": "code",
   "execution_count": 5,
   "id": "b7efda24-6596-4159-8ad5-2dae24d35a42",
   "metadata": {
    "tags": []
   },
   "outputs": [
    {
     "data": {
      "text/html": [
       "<div>\n",
       "<style scoped>\n",
       "    .dataframe tbody tr th:only-of-type {\n",
       "        vertical-align: middle;\n",
       "    }\n",
       "\n",
       "    .dataframe tbody tr th {\n",
       "        vertical-align: top;\n",
       "    }\n",
       "\n",
       "    .dataframe thead th {\n",
       "        text-align: right;\n",
       "    }\n",
       "</style>\n",
       "<table border=\"1\" class=\"dataframe\">\n",
       "  <thead>\n",
       "    <tr style=\"text-align: right;\">\n",
       "      <th></th>\n",
       "      <th>Pk</th>\n",
       "      <th>Player</th>\n",
       "      <th>BPM</th>\n",
       "      <th>WS/48</th>\n",
       "      <th>VORP</th>\n",
       "    </tr>\n",
       "  </thead>\n",
       "  <tbody>\n",
       "    <tr>\n",
       "      <th>1</th>\n",
       "      <td>1.0</td>\n",
       "      <td>Greg Oden</td>\n",
       "      <td>-0.4</td>\n",
       "      <td>0.174</td>\n",
       "      <td>0.8</td>\n",
       "    </tr>\n",
       "    <tr>\n",
       "      <th>2</th>\n",
       "      <td>2.0</td>\n",
       "      <td>Kevin Durant</td>\n",
       "      <td>6.8</td>\n",
       "      <td>0.216</td>\n",
       "      <td>76.4</td>\n",
       "    </tr>\n",
       "    <tr>\n",
       "      <th>3</th>\n",
       "      <td>3.0</td>\n",
       "      <td>Al Horford</td>\n",
       "      <td>2.9</td>\n",
       "      <td>0.157</td>\n",
       "      <td>37.9</td>\n",
       "    </tr>\n",
       "    <tr>\n",
       "      <th>4</th>\n",
       "      <td>4.0</td>\n",
       "      <td>Mike Conley</td>\n",
       "      <td>2.5</td>\n",
       "      <td>0.136</td>\n",
       "      <td>34.8</td>\n",
       "    </tr>\n",
       "    <tr>\n",
       "      <th>5</th>\n",
       "      <td>5.0</td>\n",
       "      <td>Jeff Green</td>\n",
       "      <td>-1.4</td>\n",
       "      <td>0.079</td>\n",
       "      <td>4.8</td>\n",
       "    </tr>\n",
       "  </tbody>\n",
       "</table>\n",
       "</div>"
      ],
      "text/plain": [
       "    Pk        Player  BPM  WS/48  VORP\n",
       "1  1.0     Greg Oden -0.4  0.174   0.8\n",
       "2  2.0  Kevin Durant  6.8  0.216  76.4\n",
       "3  3.0    Al Horford  2.9  0.157  37.9\n",
       "4  4.0   Mike Conley  2.5  0.136  34.8\n",
       "5  5.0    Jeff Green -1.4  0.079   4.8"
      ]
     },
     "execution_count": 5,
     "metadata": {},
     "output_type": "execute_result"
    }
   ],
   "source": [
    "cols = [\"Pk\",\"Player\",\"BPM\",\"WS/48\",\"VORP\"]\n",
    "Draft_2007 = pd.DataFrame(Draft_2007, columns = cols)\n",
    "Draft_2007.head()"
   ]
  },
  {
   "cell_type": "code",
   "execution_count": 6,
   "id": "cb8b55d0-05df-4ec2-8e7f-8ac1ba4c78e3",
   "metadata": {},
   "outputs": [],
   "source": [
    "#DataFrame for Advanced stats for the 2008 Draft Class\n",
    "Draft_2008 = Draft_2008.drop(0)"
   ]
  },
  {
   "cell_type": "code",
   "execution_count": 7,
   "id": "0d532e40-02ff-4064-80da-923d90ffd849",
   "metadata": {},
   "outputs": [
    {
     "data": {
      "text/html": [
       "<div>\n",
       "<style scoped>\n",
       "    .dataframe tbody tr th:only-of-type {\n",
       "        vertical-align: middle;\n",
       "    }\n",
       "\n",
       "    .dataframe tbody tr th {\n",
       "        vertical-align: top;\n",
       "    }\n",
       "\n",
       "    .dataframe thead th {\n",
       "        text-align: right;\n",
       "    }\n",
       "</style>\n",
       "<table border=\"1\" class=\"dataframe\">\n",
       "  <thead>\n",
       "    <tr style=\"text-align: right;\">\n",
       "      <th></th>\n",
       "      <th>Pk</th>\n",
       "      <th>Player</th>\n",
       "      <th>BPM</th>\n",
       "      <th>WS/48</th>\n",
       "      <th>VORP</th>\n",
       "    </tr>\n",
       "  </thead>\n",
       "  <tbody>\n",
       "    <tr>\n",
       "      <th>1</th>\n",
       "      <td>1.0</td>\n",
       "      <td>Derrick Rose</td>\n",
       "      <td>1.4</td>\n",
       "      <td>0.100</td>\n",
       "      <td>18.5</td>\n",
       "    </tr>\n",
       "    <tr>\n",
       "      <th>2</th>\n",
       "      <td>2.0</td>\n",
       "      <td>Michael Beasley</td>\n",
       "      <td>-1.7</td>\n",
       "      <td>0.054</td>\n",
       "      <td>0.9</td>\n",
       "    </tr>\n",
       "    <tr>\n",
       "      <th>3</th>\n",
       "      <td>3.0</td>\n",
       "      <td>O.J. Mayo</td>\n",
       "      <td>-0.9</td>\n",
       "      <td>0.062</td>\n",
       "      <td>4.7</td>\n",
       "    </tr>\n",
       "    <tr>\n",
       "      <th>4</th>\n",
       "      <td>4.0</td>\n",
       "      <td>Russell Westbrook</td>\n",
       "      <td>4.3</td>\n",
       "      <td>0.144</td>\n",
       "      <td>55.8</td>\n",
       "    </tr>\n",
       "    <tr>\n",
       "      <th>5</th>\n",
       "      <td>5.0</td>\n",
       "      <td>Kevin Love</td>\n",
       "      <td>3.4</td>\n",
       "      <td>0.170</td>\n",
       "      <td>34.0</td>\n",
       "    </tr>\n",
       "  </tbody>\n",
       "</table>\n",
       "</div>"
      ],
      "text/plain": [
       "    Pk             Player  BPM  WS/48  VORP\n",
       "1  1.0       Derrick Rose  1.4  0.100  18.5\n",
       "2  2.0    Michael Beasley -1.7  0.054   0.9\n",
       "3  3.0          O.J. Mayo -0.9  0.062   4.7\n",
       "4  4.0  Russell Westbrook  4.3  0.144  55.8\n",
       "5  5.0         Kevin Love  3.4  0.170  34.0"
      ]
     },
     "execution_count": 7,
     "metadata": {},
     "output_type": "execute_result"
    }
   ],
   "source": [
    "cols = [\"Pk\",\"Player\",\"BPM\",\"WS/48\",\"VORP\"]\n",
    "Draft_2008 = pd.DataFrame(Draft_2008, columns = cols)\n",
    "Draft_2008.head()"
   ]
  },
  {
   "cell_type": "code",
   "execution_count": 8,
   "id": "69dd79a8-72a4-4802-be84-13eed9ebf32b",
   "metadata": {
    "tags": []
   },
   "outputs": [],
   "source": [
    "#DataFrame for Advanced stats for the 2009 Draft Class\n",
    "Draft_2009 = Draft_2009.drop(0)"
   ]
  },
  {
   "cell_type": "code",
   "execution_count": 9,
   "id": "a083e248-a187-40e0-9dd1-4aea8d1b1221",
   "metadata": {},
   "outputs": [
    {
     "data": {
      "text/html": [
       "<div>\n",
       "<style scoped>\n",
       "    .dataframe tbody tr th:only-of-type {\n",
       "        vertical-align: middle;\n",
       "    }\n",
       "\n",
       "    .dataframe tbody tr th {\n",
       "        vertical-align: top;\n",
       "    }\n",
       "\n",
       "    .dataframe thead th {\n",
       "        text-align: right;\n",
       "    }\n",
       "</style>\n",
       "<table border=\"1\" class=\"dataframe\">\n",
       "  <thead>\n",
       "    <tr style=\"text-align: right;\">\n",
       "      <th></th>\n",
       "      <th>Pk</th>\n",
       "      <th>Player</th>\n",
       "      <th>BPM</th>\n",
       "      <th>WS/48</th>\n",
       "      <th>VORP</th>\n",
       "    </tr>\n",
       "  </thead>\n",
       "  <tbody>\n",
       "    <tr>\n",
       "      <th>1</th>\n",
       "      <td>1.0</td>\n",
       "      <td>Blake Griffin</td>\n",
       "      <td>3.4</td>\n",
       "      <td>0.160</td>\n",
       "      <td>32.5</td>\n",
       "    </tr>\n",
       "    <tr>\n",
       "      <th>2</th>\n",
       "      <td>2.0</td>\n",
       "      <td>Hasheem Thabeet</td>\n",
       "      <td>-2.7</td>\n",
       "      <td>0.099</td>\n",
       "      <td>-0.4</td>\n",
       "    </tr>\n",
       "    <tr>\n",
       "      <th>3</th>\n",
       "      <td>3.0</td>\n",
       "      <td>James Harden</td>\n",
       "      <td>6.8</td>\n",
       "      <td>0.220</td>\n",
       "      <td>72.0</td>\n",
       "    </tr>\n",
       "    <tr>\n",
       "      <th>4</th>\n",
       "      <td>4.0</td>\n",
       "      <td>Tyreke Evans</td>\n",
       "      <td>0.8</td>\n",
       "      <td>0.075</td>\n",
       "      <td>13.1</td>\n",
       "    </tr>\n",
       "    <tr>\n",
       "      <th>5</th>\n",
       "      <td>5.0</td>\n",
       "      <td>Ricky Rubio</td>\n",
       "      <td>0.6</td>\n",
       "      <td>0.099</td>\n",
       "      <td>13.4</td>\n",
       "    </tr>\n",
       "  </tbody>\n",
       "</table>\n",
       "</div>"
      ],
      "text/plain": [
       "    Pk           Player  BPM  WS/48  VORP\n",
       "1  1.0    Blake Griffin  3.4  0.160  32.5\n",
       "2  2.0  Hasheem Thabeet -2.7  0.099  -0.4\n",
       "3  3.0     James Harden  6.8  0.220  72.0\n",
       "4  4.0     Tyreke Evans  0.8  0.075  13.1\n",
       "5  5.0      Ricky Rubio  0.6  0.099  13.4"
      ]
     },
     "execution_count": 9,
     "metadata": {},
     "output_type": "execute_result"
    }
   ],
   "source": [
    "cols = [\"Pk\",\"Player\",\"BPM\",\"WS/48\",\"VORP\"]\n",
    "Draft_2009 = pd.DataFrame(Draft_2009, columns = cols)\n",
    "Draft_2009.head()"
   ]
  },
  {
   "cell_type": "code",
   "execution_count": 10,
   "id": "6e1a02c3-a083-416f-a394-c59d12c568c1",
   "metadata": {},
   "outputs": [],
   "source": [
    "#DataFrame for Advanced stats for the 2010 Draft Class\n",
    "Draft_2010 = Draft_2010.drop(0)"
   ]
  },
  {
   "cell_type": "code",
   "execution_count": 11,
   "id": "0a1e3aee-3913-4b4b-87e8-df940c03125f",
   "metadata": {},
   "outputs": [
    {
     "data": {
      "text/html": [
       "<div>\n",
       "<style scoped>\n",
       "    .dataframe tbody tr th:only-of-type {\n",
       "        vertical-align: middle;\n",
       "    }\n",
       "\n",
       "    .dataframe tbody tr th {\n",
       "        vertical-align: top;\n",
       "    }\n",
       "\n",
       "    .dataframe thead th {\n",
       "        text-align: right;\n",
       "    }\n",
       "</style>\n",
       "<table border=\"1\" class=\"dataframe\">\n",
       "  <thead>\n",
       "    <tr style=\"text-align: right;\">\n",
       "      <th></th>\n",
       "      <th>Pk</th>\n",
       "      <th>Player</th>\n",
       "      <th>BPM</th>\n",
       "      <th>WS/48</th>\n",
       "      <th>VORP</th>\n",
       "    </tr>\n",
       "  </thead>\n",
       "  <tbody>\n",
       "    <tr>\n",
       "      <th>1</th>\n",
       "      <td>1.0</td>\n",
       "      <td>John Wall</td>\n",
       "      <td>2.4</td>\n",
       "      <td>0.097</td>\n",
       "      <td>24.0</td>\n",
       "    </tr>\n",
       "    <tr>\n",
       "      <th>2</th>\n",
       "      <td>2.0</td>\n",
       "      <td>Evan Turner</td>\n",
       "      <td>-1.9</td>\n",
       "      <td>0.051</td>\n",
       "      <td>0.5</td>\n",
       "    </tr>\n",
       "    <tr>\n",
       "      <th>3</th>\n",
       "      <td>3.0</td>\n",
       "      <td>Derrick Favors</td>\n",
       "      <td>0.9</td>\n",
       "      <td>0.150</td>\n",
       "      <td>14.0</td>\n",
       "    </tr>\n",
       "    <tr>\n",
       "      <th>4</th>\n",
       "      <td>4.0</td>\n",
       "      <td>Wesley Johnson</td>\n",
       "      <td>-1.6</td>\n",
       "      <td>0.038</td>\n",
       "      <td>1.2</td>\n",
       "    </tr>\n",
       "    <tr>\n",
       "      <th>5</th>\n",
       "      <td>5.0</td>\n",
       "      <td>DeMarcus Cousins</td>\n",
       "      <td>2.4</td>\n",
       "      <td>0.115</td>\n",
       "      <td>21.6</td>\n",
       "    </tr>\n",
       "  </tbody>\n",
       "</table>\n",
       "</div>"
      ],
      "text/plain": [
       "    Pk            Player  BPM  WS/48  VORP\n",
       "1  1.0         John Wall  2.4  0.097  24.0\n",
       "2  2.0       Evan Turner -1.9  0.051   0.5\n",
       "3  3.0    Derrick Favors  0.9  0.150  14.0\n",
       "4  4.0    Wesley Johnson -1.6  0.038   1.2\n",
       "5  5.0  DeMarcus Cousins  2.4  0.115  21.6"
      ]
     },
     "execution_count": 11,
     "metadata": {},
     "output_type": "execute_result"
    }
   ],
   "source": [
    "cols = [\"Pk\",\"Player\",\"BPM\",\"WS/48\",\"VORP\"]\n",
    "Draft_2010 = pd.DataFrame(Draft_2010, columns = cols)\n",
    "Draft_2010.head()"
   ]
  },
  {
   "cell_type": "code",
   "execution_count": 12,
   "id": "91691c68-1ddd-4082-8098-1c6cbb9cd930",
   "metadata": {},
   "outputs": [],
   "source": [
    "#DataFrame for Advanced stats for the 2011 Draft Class\n",
    "Draft_2011 = Draft_2011.drop(0)"
   ]
  },
  {
   "cell_type": "code",
   "execution_count": 13,
   "id": "eb77d93a-6528-4813-9644-988063d8b8b8",
   "metadata": {},
   "outputs": [
    {
     "data": {
      "text/html": [
       "<div>\n",
       "<style scoped>\n",
       "    .dataframe tbody tr th:only-of-type {\n",
       "        vertical-align: middle;\n",
       "    }\n",
       "\n",
       "    .dataframe tbody tr th {\n",
       "        vertical-align: top;\n",
       "    }\n",
       "\n",
       "    .dataframe thead th {\n",
       "        text-align: right;\n",
       "    }\n",
       "</style>\n",
       "<table border=\"1\" class=\"dataframe\">\n",
       "  <thead>\n",
       "    <tr style=\"text-align: right;\">\n",
       "      <th></th>\n",
       "      <th>Pk</th>\n",
       "      <th>Player</th>\n",
       "      <th>BPM</th>\n",
       "      <th>WS/48</th>\n",
       "      <th>VORP</th>\n",
       "    </tr>\n",
       "  </thead>\n",
       "  <tbody>\n",
       "    <tr>\n",
       "      <th>1</th>\n",
       "      <td>1.0</td>\n",
       "      <td>Kyrie Irving</td>\n",
       "      <td>4.5</td>\n",
       "      <td>0.166</td>\n",
       "      <td>34.2</td>\n",
       "    </tr>\n",
       "    <tr>\n",
       "      <th>2</th>\n",
       "      <td>2.0</td>\n",
       "      <td>Derrick Williams</td>\n",
       "      <td>-1.6</td>\n",
       "      <td>0.076</td>\n",
       "      <td>0.8</td>\n",
       "    </tr>\n",
       "    <tr>\n",
       "      <th>3</th>\n",
       "      <td>3.0</td>\n",
       "      <td>Enes Freedom</td>\n",
       "      <td>-0.1</td>\n",
       "      <td>0.157</td>\n",
       "      <td>7.6</td>\n",
       "    </tr>\n",
       "    <tr>\n",
       "      <th>4</th>\n",
       "      <td>4.0</td>\n",
       "      <td>Tristan Thompson</td>\n",
       "      <td>-1.7</td>\n",
       "      <td>0.117</td>\n",
       "      <td>1.4</td>\n",
       "    </tr>\n",
       "    <tr>\n",
       "      <th>5</th>\n",
       "      <td>5.0</td>\n",
       "      <td>Jonas Valančiūnas</td>\n",
       "      <td>1.1</td>\n",
       "      <td>0.178</td>\n",
       "      <td>14.3</td>\n",
       "    </tr>\n",
       "  </tbody>\n",
       "</table>\n",
       "</div>"
      ],
      "text/plain": [
       "    Pk             Player  BPM  WS/48  VORP\n",
       "1  1.0       Kyrie Irving  4.5  0.166  34.2\n",
       "2  2.0   Derrick Williams -1.6  0.076   0.8\n",
       "3  3.0       Enes Freedom -0.1  0.157   7.6\n",
       "4  4.0   Tristan Thompson -1.7  0.117   1.4\n",
       "5  5.0  Jonas Valančiūnas  1.1  0.178  14.3"
      ]
     },
     "execution_count": 13,
     "metadata": {},
     "output_type": "execute_result"
    }
   ],
   "source": [
    "cols = [\"Pk\",\"Player\",\"BPM\",\"WS/48\",\"VORP\"]\n",
    "Draft_2011 = pd.DataFrame(Draft_2011, columns = cols)\n",
    "Draft_2011.head()"
   ]
  },
  {
   "cell_type": "code",
   "execution_count": 14,
   "id": "f3b66538-5fa3-4500-a751-468c20b9545c",
   "metadata": {},
   "outputs": [],
   "source": [
    "#DataFrame for Advanced stats for the 2012 Draft Class\n",
    "Draft_2012 = Draft_2012.drop(0)"
   ]
  },
  {
   "cell_type": "code",
   "execution_count": 15,
   "id": "715c5cd7-47e3-4f17-8391-c6a045f99a96",
   "metadata": {},
   "outputs": [
    {
     "data": {
      "text/html": [
       "<div>\n",
       "<style scoped>\n",
       "    .dataframe tbody tr th:only-of-type {\n",
       "        vertical-align: middle;\n",
       "    }\n",
       "\n",
       "    .dataframe tbody tr th {\n",
       "        vertical-align: top;\n",
       "    }\n",
       "\n",
       "    .dataframe thead th {\n",
       "        text-align: right;\n",
       "    }\n",
       "</style>\n",
       "<table border=\"1\" class=\"dataframe\">\n",
       "  <thead>\n",
       "    <tr style=\"text-align: right;\">\n",
       "      <th></th>\n",
       "      <th>Pk</th>\n",
       "      <th>Player</th>\n",
       "      <th>BPM</th>\n",
       "      <th>WS/48</th>\n",
       "      <th>VORP</th>\n",
       "    </tr>\n",
       "  </thead>\n",
       "  <tbody>\n",
       "    <tr>\n",
       "      <th>1</th>\n",
       "      <td>1.0</td>\n",
       "      <td>Anthony Davis</td>\n",
       "      <td>6.0</td>\n",
       "      <td>0.211</td>\n",
       "      <td>42.1</td>\n",
       "    </tr>\n",
       "    <tr>\n",
       "      <th>2</th>\n",
       "      <td>2.0</td>\n",
       "      <td>Michael Kidd-Gilchrist</td>\n",
       "      <td>-1.8</td>\n",
       "      <td>0.092</td>\n",
       "      <td>0.6</td>\n",
       "    </tr>\n",
       "    <tr>\n",
       "      <th>3</th>\n",
       "      <td>3.0</td>\n",
       "      <td>Bradley Beal</td>\n",
       "      <td>1.7</td>\n",
       "      <td>0.104</td>\n",
       "      <td>21.0</td>\n",
       "    </tr>\n",
       "    <tr>\n",
       "      <th>4</th>\n",
       "      <td>4.0</td>\n",
       "      <td>Dion Waiters</td>\n",
       "      <td>-2.1</td>\n",
       "      <td>0.036</td>\n",
       "      <td>-0.4</td>\n",
       "    </tr>\n",
       "    <tr>\n",
       "      <th>5</th>\n",
       "      <td>5.0</td>\n",
       "      <td>Thomas Robinson</td>\n",
       "      <td>-3.5</td>\n",
       "      <td>0.053</td>\n",
       "      <td>-1.6</td>\n",
       "    </tr>\n",
       "  </tbody>\n",
       "</table>\n",
       "</div>"
      ],
      "text/plain": [
       "    Pk                  Player  BPM  WS/48  VORP\n",
       "1  1.0           Anthony Davis  6.0  0.211  42.1\n",
       "2  2.0  Michael Kidd-Gilchrist -1.8  0.092   0.6\n",
       "3  3.0            Bradley Beal  1.7  0.104  21.0\n",
       "4  4.0            Dion Waiters -2.1  0.036  -0.4\n",
       "5  5.0         Thomas Robinson -3.5  0.053  -1.6"
      ]
     },
     "execution_count": 15,
     "metadata": {},
     "output_type": "execute_result"
    }
   ],
   "source": [
    "cols = [\"Pk\",\"Player\",\"BPM\",\"WS/48\",\"VORP\"]\n",
    "Draft_2012 = pd.DataFrame(Draft_2012, columns = cols)\n",
    "Draft_2012.head()"
   ]
  },
  {
   "cell_type": "code",
   "execution_count": 16,
   "id": "9929417c-7e2e-458e-bec6-278eadec2947",
   "metadata": {},
   "outputs": [],
   "source": [
    "#DataFrame for Advanced stats for the 2013 Draft Class\n",
    "Draft_2013 = Draft_2013.drop(0)"
   ]
  },
  {
   "cell_type": "code",
   "execution_count": 17,
   "id": "19fcdf97-cfd3-4c47-ada2-1b9fb5cca795",
   "metadata": {},
   "outputs": [
    {
     "data": {
      "text/html": [
       "<div>\n",
       "<style scoped>\n",
       "    .dataframe tbody tr th:only-of-type {\n",
       "        vertical-align: middle;\n",
       "    }\n",
       "\n",
       "    .dataframe tbody tr th {\n",
       "        vertical-align: top;\n",
       "    }\n",
       "\n",
       "    .dataframe thead th {\n",
       "        text-align: right;\n",
       "    }\n",
       "</style>\n",
       "<table border=\"1\" class=\"dataframe\">\n",
       "  <thead>\n",
       "    <tr style=\"text-align: right;\">\n",
       "      <th></th>\n",
       "      <th>Pk</th>\n",
       "      <th>Player</th>\n",
       "      <th>BPM</th>\n",
       "      <th>WS/48</th>\n",
       "      <th>VORP</th>\n",
       "    </tr>\n",
       "  </thead>\n",
       "  <tbody>\n",
       "    <tr>\n",
       "      <th>1</th>\n",
       "      <td>1.0</td>\n",
       "      <td>Anthony Bennett</td>\n",
       "      <td>-4.8</td>\n",
       "      <td>0.013</td>\n",
       "      <td>-1.3</td>\n",
       "    </tr>\n",
       "    <tr>\n",
       "      <th>2</th>\n",
       "      <td>2.0</td>\n",
       "      <td>Victor Oladipo</td>\n",
       "      <td>0.9</td>\n",
       "      <td>0.080</td>\n",
       "      <td>11.0</td>\n",
       "    </tr>\n",
       "    <tr>\n",
       "      <th>3</th>\n",
       "      <td>3.0</td>\n",
       "      <td>Otto Porter Jr.</td>\n",
       "      <td>1.8</td>\n",
       "      <td>0.132</td>\n",
       "      <td>12.5</td>\n",
       "    </tr>\n",
       "    <tr>\n",
       "      <th>4</th>\n",
       "      <td>4.0</td>\n",
       "      <td>Cody Zeller</td>\n",
       "      <td>-0.6</td>\n",
       "      <td>0.140</td>\n",
       "      <td>4.0</td>\n",
       "    </tr>\n",
       "    <tr>\n",
       "      <th>5</th>\n",
       "      <td>5.0</td>\n",
       "      <td>Alex Len</td>\n",
       "      <td>-1.9</td>\n",
       "      <td>0.096</td>\n",
       "      <td>0.2</td>\n",
       "    </tr>\n",
       "  </tbody>\n",
       "</table>\n",
       "</div>"
      ],
      "text/plain": [
       "    Pk           Player  BPM  WS/48  VORP\n",
       "1  1.0  Anthony Bennett -4.8  0.013  -1.3\n",
       "2  2.0   Victor Oladipo  0.9  0.080  11.0\n",
       "3  3.0  Otto Porter Jr.  1.8  0.132  12.5\n",
       "4  4.0      Cody Zeller -0.6  0.140   4.0\n",
       "5  5.0         Alex Len -1.9  0.096   0.2"
      ]
     },
     "execution_count": 17,
     "metadata": {},
     "output_type": "execute_result"
    }
   ],
   "source": [
    "cols = [\"Pk\",\"Player\",\"BPM\",\"WS/48\",\"VORP\"]\n",
    "Draft_2013 = pd.DataFrame(Draft_2013, columns = cols)\n",
    "Draft_2013.head()"
   ]
  },
  {
   "cell_type": "code",
   "execution_count": 18,
   "id": "892326c9-d7ed-425e-81c1-52aab2d91d55",
   "metadata": {},
   "outputs": [],
   "source": [
    "#DataFrame for Advanced stats for the 2014 Draft Class\n",
    "Draft_2014 = Draft_2014.drop(0)"
   ]
  },
  {
   "cell_type": "code",
   "execution_count": 19,
   "id": "e646b55f-0c25-4b3b-8864-7b5aec75c56e",
   "metadata": {},
   "outputs": [
    {
     "data": {
      "text/html": [
       "<div>\n",
       "<style scoped>\n",
       "    .dataframe tbody tr th:only-of-type {\n",
       "        vertical-align: middle;\n",
       "    }\n",
       "\n",
       "    .dataframe tbody tr th {\n",
       "        vertical-align: top;\n",
       "    }\n",
       "\n",
       "    .dataframe thead th {\n",
       "        text-align: right;\n",
       "    }\n",
       "</style>\n",
       "<table border=\"1\" class=\"dataframe\">\n",
       "  <thead>\n",
       "    <tr style=\"text-align: right;\">\n",
       "      <th></th>\n",
       "      <th>Pk</th>\n",
       "      <th>Player</th>\n",
       "      <th>BPM</th>\n",
       "      <th>WS/48</th>\n",
       "      <th>VORP</th>\n",
       "    </tr>\n",
       "  </thead>\n",
       "  <tbody>\n",
       "    <tr>\n",
       "      <th>1</th>\n",
       "      <td>1.0</td>\n",
       "      <td>Andrew Wiggins</td>\n",
       "      <td>-1.5</td>\n",
       "      <td>0.055</td>\n",
       "      <td>2.6</td>\n",
       "    </tr>\n",
       "    <tr>\n",
       "      <th>2</th>\n",
       "      <td>2.0</td>\n",
       "      <td>Jabari Parker</td>\n",
       "      <td>-0.8</td>\n",
       "      <td>0.078</td>\n",
       "      <td>2.5</td>\n",
       "    </tr>\n",
       "    <tr>\n",
       "      <th>3</th>\n",
       "      <td>3.0</td>\n",
       "      <td>Joel Embiid</td>\n",
       "      <td>5.9</td>\n",
       "      <td>0.205</td>\n",
       "      <td>20.4</td>\n",
       "    </tr>\n",
       "    <tr>\n",
       "      <th>4</th>\n",
       "      <td>4.0</td>\n",
       "      <td>Aaron Gordon</td>\n",
       "      <td>-0.1</td>\n",
       "      <td>0.090</td>\n",
       "      <td>7.3</td>\n",
       "    </tr>\n",
       "    <tr>\n",
       "      <th>5</th>\n",
       "      <td>5.0</td>\n",
       "      <td>Dante Exum</td>\n",
       "      <td>-3.3</td>\n",
       "      <td>0.032</td>\n",
       "      <td>-1.5</td>\n",
       "    </tr>\n",
       "  </tbody>\n",
       "</table>\n",
       "</div>"
      ],
      "text/plain": [
       "    Pk          Player  BPM  WS/48  VORP\n",
       "1  1.0  Andrew Wiggins -1.5  0.055   2.6\n",
       "2  2.0   Jabari Parker -0.8  0.078   2.5\n",
       "3  3.0     Joel Embiid  5.9  0.205  20.4\n",
       "4  4.0    Aaron Gordon -0.1  0.090   7.3\n",
       "5  5.0      Dante Exum -3.3  0.032  -1.5"
      ]
     },
     "execution_count": 19,
     "metadata": {},
     "output_type": "execute_result"
    }
   ],
   "source": [
    "cols = [\"Pk\",\"Player\",\"BPM\",\"WS/48\",\"VORP\"]\n",
    "Draft_2014 = pd.DataFrame(Draft_2014, columns = cols)\n",
    "Draft_2014.head()"
   ]
  },
  {
   "cell_type": "code",
   "execution_count": 20,
   "id": "8a23c70d-bb40-45d8-88aa-dc2b3abb6151",
   "metadata": {},
   "outputs": [],
   "source": [
    "#DataFrame for Advanced stats for the 2015 Draft Class\n",
    "Draft_2015 = Draft_2015.drop(0)"
   ]
  },
  {
   "cell_type": "code",
   "execution_count": 21,
   "id": "74c44d4e-9a0a-4be5-ad48-e72a2d84fa67",
   "metadata": {},
   "outputs": [
    {
     "data": {
      "text/html": [
       "<div>\n",
       "<style scoped>\n",
       "    .dataframe tbody tr th:only-of-type {\n",
       "        vertical-align: middle;\n",
       "    }\n",
       "\n",
       "    .dataframe tbody tr th {\n",
       "        vertical-align: top;\n",
       "    }\n",
       "\n",
       "    .dataframe thead th {\n",
       "        text-align: right;\n",
       "    }\n",
       "</style>\n",
       "<table border=\"1\" class=\"dataframe\">\n",
       "  <thead>\n",
       "    <tr style=\"text-align: right;\">\n",
       "      <th></th>\n",
       "      <th>Pk</th>\n",
       "      <th>Player</th>\n",
       "      <th>BPM</th>\n",
       "      <th>WS/48</th>\n",
       "      <th>VORP</th>\n",
       "    </tr>\n",
       "  </thead>\n",
       "  <tbody>\n",
       "    <tr>\n",
       "      <th>1</th>\n",
       "      <td>1.0</td>\n",
       "      <td>Karl-Anthony Towns</td>\n",
       "      <td>4.8</td>\n",
       "      <td>0.193</td>\n",
       "      <td>28.3</td>\n",
       "    </tr>\n",
       "    <tr>\n",
       "      <th>2</th>\n",
       "      <td>2.0</td>\n",
       "      <td>D'Angelo Russell</td>\n",
       "      <td>0.5</td>\n",
       "      <td>0.055</td>\n",
       "      <td>8.0</td>\n",
       "    </tr>\n",
       "    <tr>\n",
       "      <th>3</th>\n",
       "      <td>3.0</td>\n",
       "      <td>Jahlil Okafor</td>\n",
       "      <td>-2.0</td>\n",
       "      <td>0.071</td>\n",
       "      <td>0.0</td>\n",
       "    </tr>\n",
       "    <tr>\n",
       "      <th>4</th>\n",
       "      <td>4.0</td>\n",
       "      <td>Kristaps Porziņģis</td>\n",
       "      <td>1.7</td>\n",
       "      <td>0.125</td>\n",
       "      <td>9.6</td>\n",
       "    </tr>\n",
       "    <tr>\n",
       "      <th>5</th>\n",
       "      <td>5.0</td>\n",
       "      <td>Mario Hezonja</td>\n",
       "      <td>-2.8</td>\n",
       "      <td>0.025</td>\n",
       "      <td>-1.2</td>\n",
       "    </tr>\n",
       "  </tbody>\n",
       "</table>\n",
       "</div>"
      ],
      "text/plain": [
       "    Pk              Player  BPM  WS/48  VORP\n",
       "1  1.0  Karl-Anthony Towns  4.8  0.193  28.3\n",
       "2  2.0    D'Angelo Russell  0.5  0.055   8.0\n",
       "3  3.0       Jahlil Okafor -2.0  0.071   0.0\n",
       "4  4.0  Kristaps Porziņģis  1.7  0.125   9.6\n",
       "5  5.0       Mario Hezonja -2.8  0.025  -1.2"
      ]
     },
     "execution_count": 21,
     "metadata": {},
     "output_type": "execute_result"
    }
   ],
   "source": [
    "cols = [\"Pk\",\"Player\",\"BPM\",\"WS/48\",\"VORP\"]\n",
    "Draft_2015 = pd.DataFrame(Draft_2015, columns = cols)\n",
    "Draft_2015.head()"
   ]
  },
  {
   "cell_type": "code",
   "execution_count": 22,
   "id": "e52f9e45-091d-43e0-9e5a-b591618f4bdb",
   "metadata": {},
   "outputs": [],
   "source": [
    "#DataFrame for Advanced stats for the 2016 Draft Class\n",
    "Draft_2016 = Draft_2016.drop(0)"
   ]
  },
  {
   "cell_type": "code",
   "execution_count": 23,
   "id": "c781a82d-fdd3-4c00-b92d-1ff0d3b04df0",
   "metadata": {},
   "outputs": [
    {
     "data": {
      "text/html": [
       "<div>\n",
       "<style scoped>\n",
       "    .dataframe tbody tr th:only-of-type {\n",
       "        vertical-align: middle;\n",
       "    }\n",
       "\n",
       "    .dataframe tbody tr th {\n",
       "        vertical-align: top;\n",
       "    }\n",
       "\n",
       "    .dataframe thead th {\n",
       "        text-align: right;\n",
       "    }\n",
       "</style>\n",
       "<table border=\"1\" class=\"dataframe\">\n",
       "  <thead>\n",
       "    <tr style=\"text-align: right;\">\n",
       "      <th></th>\n",
       "      <th>Pk</th>\n",
       "      <th>Player</th>\n",
       "      <th>BPM</th>\n",
       "      <th>WS/48</th>\n",
       "      <th>VORP</th>\n",
       "    </tr>\n",
       "  </thead>\n",
       "  <tbody>\n",
       "    <tr>\n",
       "      <th>1</th>\n",
       "      <td>1.0</td>\n",
       "      <td>Ben Simmons</td>\n",
       "      <td>3.7</td>\n",
       "      <td>0.156</td>\n",
       "      <td>13.5</td>\n",
       "    </tr>\n",
       "    <tr>\n",
       "      <th>2</th>\n",
       "      <td>2.0</td>\n",
       "      <td>Brandon Ingram</td>\n",
       "      <td>-0.3</td>\n",
       "      <td>0.074</td>\n",
       "      <td>5.2</td>\n",
       "    </tr>\n",
       "    <tr>\n",
       "      <th>3</th>\n",
       "      <td>3.0</td>\n",
       "      <td>Jaylen Brown</td>\n",
       "      <td>0.1</td>\n",
       "      <td>0.102</td>\n",
       "      <td>6.1</td>\n",
       "    </tr>\n",
       "    <tr>\n",
       "      <th>4</th>\n",
       "      <td>4.0</td>\n",
       "      <td>Dragan Bender</td>\n",
       "      <td>-3.9</td>\n",
       "      <td>0.006</td>\n",
       "      <td>-1.9</td>\n",
       "    </tr>\n",
       "    <tr>\n",
       "      <th>5</th>\n",
       "      <td>5.0</td>\n",
       "      <td>Kris Dunn</td>\n",
       "      <td>-2.1</td>\n",
       "      <td>0.031</td>\n",
       "      <td>-0.2</td>\n",
       "    </tr>\n",
       "  </tbody>\n",
       "</table>\n",
       "</div>"
      ],
      "text/plain": [
       "    Pk          Player  BPM  WS/48  VORP\n",
       "1  1.0     Ben Simmons  3.7  0.156  13.5\n",
       "2  2.0  Brandon Ingram -0.3  0.074   5.2\n",
       "3  3.0    Jaylen Brown  0.1  0.102   6.1\n",
       "4  4.0   Dragan Bender -3.9  0.006  -1.9\n",
       "5  5.0       Kris Dunn -2.1  0.031  -0.2"
      ]
     },
     "execution_count": 23,
     "metadata": {},
     "output_type": "execute_result"
    }
   ],
   "source": [
    "cols = [\"Pk\",\"Player\",\"BPM\",\"WS/48\",\"VORP\"]\n",
    "Draft_2016 = pd.DataFrame(Draft_2016, columns = cols)\n",
    "Draft_2016.head()"
   ]
  },
  {
   "cell_type": "code",
   "execution_count": 24,
   "id": "074b2663-a3ff-42e5-9f65-f180e9b75d48",
   "metadata": {},
   "outputs": [
    {
     "name": "stderr",
     "output_type": "stream",
     "text": [
      "[0531/073914.813311:INFO:headless_shell.cc(660)] Written to file /var/folders/wx/pnzp2mcx6dn3bpbrl16v7f3w0000gn/T/tmp8xehrt4f/temp.png.\n"
     ]
    },
    {
     "data": {
      "text/html": [
       "<div>\n",
       "<style scoped>\n",
       "    .dataframe tbody tr th:only-of-type {\n",
       "        vertical-align: middle;\n",
       "    }\n",
       "\n",
       "    .dataframe tbody tr th {\n",
       "        vertical-align: top;\n",
       "    }\n",
       "\n",
       "    .dataframe thead th {\n",
       "        text-align: right;\n",
       "    }\n",
       "</style>\n",
       "<table border=\"1\" class=\"dataframe\">\n",
       "  <thead>\n",
       "    <tr style=\"text-align: right;\">\n",
       "      <th></th>\n",
       "      <th>Pk</th>\n",
       "      <th>BPM</th>\n",
       "      <th>WS/48</th>\n",
       "      <th>VORP</th>\n",
       "    </tr>\n",
       "  </thead>\n",
       "  <tbody>\n",
       "    <tr>\n",
       "      <th>0</th>\n",
       "      <td>1.0</td>\n",
       "      <td>1.95</td>\n",
       "      <td>0.1325</td>\n",
       "      <td>19.52</td>\n",
       "    </tr>\n",
       "    <tr>\n",
       "      <th>1</th>\n",
       "      <td>2.0</td>\n",
       "      <td>-0.26</td>\n",
       "      <td>0.0875</td>\n",
       "      <td>10.55</td>\n",
       "    </tr>\n",
       "    <tr>\n",
       "      <th>2</th>\n",
       "      <td>3.0</td>\n",
       "      <td>1.71</td>\n",
       "      <td>0.1360</td>\n",
       "      <td>19.62</td>\n",
       "    </tr>\n",
       "    <tr>\n",
       "      <th>3</th>\n",
       "      <td>4.0</td>\n",
       "      <td>-0.07</td>\n",
       "      <td>0.0907</td>\n",
       "      <td>12.49</td>\n",
       "    </tr>\n",
       "    <tr>\n",
       "      <th>4</th>\n",
       "      <td>5.0</td>\n",
       "      <td>-0.75</td>\n",
       "      <td>0.0878</td>\n",
       "      <td>8.38</td>\n",
       "    </tr>\n",
       "  </tbody>\n",
       "</table>\n",
       "</div>"
      ],
      "text/plain": [
       "    Pk   BPM   WS/48   VORP\n",
       "0  1.0  1.95  0.1325  19.52\n",
       "1  2.0 -0.26  0.0875  10.55\n",
       "2  3.0  1.71  0.1360  19.62\n",
       "3  4.0 -0.07  0.0907  12.49\n",
       "4  5.0 -0.75  0.0878   8.38"
      ]
     },
     "execution_count": 24,
     "metadata": {},
     "output_type": "execute_result"
    }
   ],
   "source": [
    "#Merged DataFrame and averaged each pick\n",
    "df = pd.concat([Draft_2007, Draft_2008,Draft_2009,Draft_2010,Draft_2011,Draft_2012,Draft_2013,Draft_2014,Draft_2015,Draft_2016], axis=0)\n",
    "df = df.sort_values(by=['Pk'],ascending=True)\n",
    "df = df.groupby('Pk', as_index=False).mean()\n",
    "dfi.export(df.head(10),'dataframe.png')\n",
    "df.head()"
   ]
  },
  {
   "cell_type": "code",
   "execution_count": null,
   "id": "238ec54c-effd-4dd5-a6f8-582025447857",
   "metadata": {},
   "outputs": [],
   "source": []
  },
  {
   "cell_type": "markdown",
   "id": "017a6028-fa84-4ffb-a2cc-4c8982d779fc",
   "metadata": {
    "tags": []
   },
   "source": [
    "## Analyses"
   ]
  },
  {
   "cell_type": "code",
   "execution_count": 434,
   "id": "09ac055b-9228-4bbb-a48d-ae7d037eb410",
   "metadata": {
    "tags": []
   },
   "outputs": [
    {
     "data": {
      "image/png": "[encoded data removed]",
      "text/plain": [
       "<Figure size 432x288 with 1 Axes>"
      ]
     },
     "metadata": {
      "needs_background": "light"
     },
     "output_type": "display_data"
    }
   ],
   "source": [
    " #BPM Linear Regression, Slope, and R2\n",
    "sns.regplot(x=\"Pk\", y=\"BPM\", data=df).set(title='Box Plus Minus vs. Pick')\n",
    "plt.savefig(\"BPM_plot.png\", format=\"png\", bbox_inches=\"tight\")"
   ]
  },
  {
   "cell_type": "code",
   "execution_count": 435,
   "id": "d5a0cd7f-a823-49d2-a856-eae304e47dfa",
   "metadata": {},
   "outputs": [],
   "source": [
    "X=df['Pk'].values\n",
    "Y=df['BPM'].values"
   ]
  },
  {
   "cell_type": "code",
   "execution_count": 436,
   "id": "08790f2d-c70a-4ddc-ae69-f52e617795bb",
   "metadata": {
    "tags": []
   },
   "outputs": [],
   "source": [
    "def lin_reg(x,y):\n",
    "    # Calculate the average x and y\n",
    "    x_avg = np.mean(x)\n",
    "    y_avg = np.mean(y)\n",
    "\n",
    "    num = 0\n",
    "    den = 0\n",
    "    for i in range(len(x)): # This represents our sums\n",
    "        num = num + (x[i] - x_avg)*(y[i] - y_avg) # Our numerator\n",
    "        den = den + (x[i] - x_avg)**2 # Our denominator\n",
    "    # Calculate slope\n",
    "    m = num / den\n",
    "    # Calculate intercept\n",
    "    b = y_avg - m*x_avg\n",
    "\n",
    "    print (m, b)\n",
    "    \n",
    "    # Calculate our predicted y values\n",
    "    y_pred = m*x + b\n",
    "    \n",
    "    return y_pred"
   ]
  },
  {
   "cell_type": "code",
   "execution_count": 437,
   "id": "0d15bf0e-562f-429c-a7cf-bb92ec553c68",
   "metadata": {},
   "outputs": [
    {
     "name": "stdout",
     "output_type": "stream",
     "text": [
      "-0.0903633667037449 0.3714840357598981\n"
     ]
    }
   ],
   "source": [
    "Y_pred = lin_reg(X,Y)"
   ]
  },
  {
   "cell_type": "code",
   "execution_count": 438,
   "id": "51b47d83-e6dd-40cc-85b1-73434b35356d",
   "metadata": {},
   "outputs": [
    {
     "name": "stdout",
     "output_type": "stream",
     "text": [
      "R2 =  0.9447329917697826\n"
     ]
    }
   ],
   "source": [
    "model = LinearRegression()\n",
    "X, y = df[[\"Pk\", \"BPM\"]],df\n",
    "model.fit(X, y)\n",
    "r_squared = model.score(X, y)\n",
    "print(\"R2 = \",r_squared)"
   ]
  },
  {
   "cell_type": "code",
   "execution_count": 439,
   "id": "a349b0a7-44cf-4146-a429-c817637d8162",
   "metadata": {
    "tags": []
   },
   "outputs": [
    {
     "data": {
      "image/png": "[encoded data removed]",
      "text/plain": [
       "<Figure size 432x288 with 1 Axes>"
      ]
     },
     "metadata": {
      "needs_background": "light"
     },
     "output_type": "display_data"
    }
   ],
   "source": [
    " #WS/48 Linear Regression, Slope, and R2\n",
    "sns.regplot(x=\"Pk\", y=\"WS/48\", data=df).set(title='Win Shares per 48 vs. Pick')\n",
    "plt.savefig('WS_plot.png')"
   ]
  },
  {
   "cell_type": "code",
   "execution_count": 440,
   "id": "64acc88f-40a1-4d16-bfd8-3dc9094bccb2",
   "metadata": {},
   "outputs": [],
   "source": [
    "X=df['Pk'].values\n",
    "Y=df['WS/48'].values"
   ]
  },
  {
   "cell_type": "code",
   "execution_count": 441,
   "id": "0791c103-4588-436f-90ee-c8305ca5e3af",
   "metadata": {},
   "outputs": [],
   "source": [
    "def lin_reg(x,y):\n",
    "    # Calculate the average x and y\n",
    "    x_avg = np.mean(x)\n",
    "    y_avg = np.mean(y)\n",
    "\n",
    "    num = 0\n",
    "    den = 0\n",
    "    for i in range(len(x)): # This represents our sums\n",
    "        num = num + (x[i] - x_avg)*(y[i] - y_avg) # Our numerator\n",
    "        den = den + (x[i] - x_avg)**2 # Our denominator\n",
    "    # Calculate slope\n",
    "    m = num / den\n",
    "    # Calculate intercept\n",
    "    b = y_avg - m*x_avg\n",
    "\n",
    "    print (m, b)\n",
    "    \n",
    "    # Calculate our predicted y values\n",
    "    y_pred = m*x + b\n",
    "    \n",
    "    return y_pred"
   ]
  },
  {
   "cell_type": "code",
   "execution_count": 442,
   "id": "52bd5418-bc61-4700-ae30-077202b8113b",
   "metadata": {},
   "outputs": [
    {
     "name": "stdout",
     "output_type": "stream",
     "text": [
      "-0.0013590804597701151 0.10365389527458492\n"
     ]
    }
   ],
   "source": [
    "Y_pred = lin_reg(X,Y)"
   ]
  },
  {
   "cell_type": "code",
   "execution_count": 443,
   "id": "eb703022-55b2-43cf-a69d-eacbb14d567b",
   "metadata": {},
   "outputs": [
    {
     "name": "stdout",
     "output_type": "stream",
     "text": [
      "R2 =  0.9399817143330786\n"
     ]
    }
   ],
   "source": [
    "model = LinearRegression()\n",
    "X, y = df[[\"Pk\", \"WS/48\"]],df\n",
    "model.fit(X, y)\n",
    "r_squared = model.score(X, y)\n",
    "print(\"R2 = \",r_squared)"
   ]
  },
  {
   "cell_type": "code",
   "execution_count": 444,
   "id": "618aa1b9-38c1-4cde-9363-35b2798c5189",
   "metadata": {
    "tags": []
   },
   "outputs": [
    {
     "data": {
      "image/png": "[encoded data removed]",
      "text/plain": [
       "<Figure size 432x288 with 1 Axes>"
      ]
     },
     "metadata": {
      "needs_background": "light"
     },
     "output_type": "display_data"
    }
   ],
   "source": [
    " #VORP Linear Regression, Slope, and R2\n",
    "sns.regplot(x=\"Pk\", y=\"VORP\", data=df).set(title='VORP vs. Pick')\n",
    "plt.savefig('VORP_plot.png')"
   ]
  },
  {
   "cell_type": "code",
   "execution_count": 445,
   "id": "f856e8cb-87fa-4872-bf13-6c86f9090deb",
   "metadata": {},
   "outputs": [],
   "source": [
    "X=df['Pk'].values\n",
    "Y=df['VORP'].values"
   ]
  },
  {
   "cell_type": "code",
   "execution_count": 446,
   "id": "bf28bf61-40d2-423a-864f-340055165b95",
   "metadata": {},
   "outputs": [],
   "source": [
    "def lin_reg(x,y):\n",
    "    # Calculate the average x and y\n",
    "    x_avg = np.mean(x)\n",
    "    y_avg = np.mean(y)\n",
    "\n",
    "    num = 0\n",
    "    den = 0\n",
    "    for i in range(len(x)): # This represents our sums\n",
    "        num = num + (x[i] - x_avg)*(y[i] - y_avg) # Our numerator\n",
    "        den = den + (x[i] - x_avg)**2 # Our denominator\n",
    "    # Calculate slope\n",
    "    m = num / den\n",
    "    # Calculate intercept\n",
    "    b = y_avg - m*x_avg\n",
    "\n",
    "    print (m, b)\n",
    "    \n",
    "    # Calculate our predicted y values\n",
    "    y_pred = m*x + b\n",
    "    \n",
    "    return y_pred"
   ]
  },
  {
   "cell_type": "code",
   "execution_count": 447,
   "id": "a5ee1a9e-33f2-446b-a8a4-6c50a9c3fceb",
   "metadata": {},
   "outputs": [
    {
     "name": "stdout",
     "output_type": "stream",
     "text": [
      "-0.3990723025583983 12.480176245210728\n"
     ]
    }
   ],
   "source": [
    "Y_pred = lin_reg(X,Y)"
   ]
  },
  {
   "cell_type": "code",
   "execution_count": 448,
   "id": "db0f647f-dc52-42b9-b726-46ef0f9ee283",
   "metadata": {},
   "outputs": [
    {
     "name": "stdout",
     "output_type": "stream",
     "text": [
      "R2 =  0.9066758376385264\n"
     ]
    }
   ],
   "source": [
    "model = LinearRegression()\n",
    "X, y = df[[\"Pk\", \"VORP\"]],df\n",
    "model.fit(X, y)\n",
    "r_squared = model.score(X, y)\n",
    "print(\"R2 = \",r_squared)"
   ]
  },
  {
   "cell_type": "markdown",
   "id": "2c74e8fd-abaa-446a-8698-184aad29e2df",
   "metadata": {},
   "source": [
    "## Conclusion"
   ]
  },
  {
   "cell_type": "markdown",
   "id": "5aba0c45-dc9f-4b21-99ca-315cc30c1c28",
   "metadata": {},
   "source": [
    "All the slopes were negative meaning there is a negative correlation between the two variables of each graph. in terms of our data this means the as pick increases (the lower the pick) The metric being measured decreases. The R2 value for each graph was above 0.9 which means our linear regression was over 90 percent accurate showing a strong relationship in the negative correlation of our variables."
   ]
  },
  {
   "cell_type": "markdown",
   "id": "88acd5aa-ab9f-4bc8-8c75-49dea032ea2a",
   "metadata": {},
   "source": [
    "So in conclusion draft position is an accurate predictor of how great a player will be"
   ]
  },
  {
   "cell_type": "code",
   "execution_count": null,
   "id": "8cafb9e9-cf52-487b-8b86-b2dc773f5a3a",
   "metadata": {},
   "outputs": [],
   "source": []
  }
 ],
 "metadata": {
  "kernelspec": {
   "display_name": "Python 3 (ipykernel)",
   "language": "python",
   "name": "python3"
  },
  "language_info": {
   "codemirror_mode": {
    "name": "ipython",
    "version": 3
   },
   "file_extension": ".py",
   "mimetype": "text/x-python",
   "name": "python",
   "nbconvert_exporter": "python",
   "pygments_lexer": "ipython3",
   "version": "3.9.12"
  }
 },
 "nbformat": 4,
 "nbformat_minor": 5
}
