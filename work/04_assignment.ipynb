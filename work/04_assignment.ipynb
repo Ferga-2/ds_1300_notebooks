{
 "cells": [
  {
   "cell_type": "markdown",
   "id": "22cc7829",
   "metadata": {},
   "source": [
    "# Data Visualization"
   ]
  },
  {
   "cell_type": "markdown",
   "id": "7806dc95",
   "metadata": {},
   "source": [
    "Select a dataset we have used in class (or outside of class).\n",
    "\n",
    "Generate a plot that you feel visualizes the data is an interesting way. Your plot should have the following elements:\n",
    "\n",
    ">1) Title\n",
    ">2) Legend\n",
    ">3) Axes or other Labels\n",
    ">4) Color\n",
    ">5) 1 sentence description of what your plot shows\n",
    ">6) Brief description of why you chose to make the plot the way you did.\n",
    "\n",
    "You may use pandas, matplotlib, or seaborn.\n",
    "\n",
    "Upload a pdf of the plot to Canvas."
   ]
  },
  {
   "cell_type": "code",
   "execution_count": 69,
   "id": "09840ab2-a2ba-4b94-b3ae-2d67a961db69",
   "metadata": {},
   "outputs": [],
   "source": [
    "import pandas as pd\n",
    "import numpy as np\n",
    "import matplotlib\n",
    "import matplotlib.pyplot as plt"
   ]
  },
  {
   "cell_type": "code",
   "execution_count": 70,
   "id": "b33459a7-fa7e-4dc2-b8c0-9dc7cae451cd",
   "metadata": {},
   "outputs": [
    {
     "data": {
      "text/html": [
       "<div>\n",
       "<style scoped>\n",
       "    .dataframe tbody tr th:only-of-type {\n",
       "        vertical-align: middle;\n",
       "    }\n",
       "\n",
       "    .dataframe tbody tr th {\n",
       "        vertical-align: top;\n",
       "    }\n",
       "\n",
       "    .dataframe thead th {\n",
       "        text-align: right;\n",
       "    }\n",
       "</style>\n",
       "<table border=\"1\" class=\"dataframe\">\n",
       "  <thead>\n",
       "    <tr style=\"text-align: right;\">\n",
       "      <th></th>\n",
       "      <th>Height (No Shoes)</th>\n",
       "      <th>Wingspan</th>\n",
       "    </tr>\n",
       "  </thead>\n",
       "  <tbody>\n",
       "    <tr>\n",
       "      <th>56</th>\n",
       "      <td>70.5</td>\n",
       "      <td>77.50</td>\n",
       "    </tr>\n",
       "    <tr>\n",
       "      <th>37</th>\n",
       "      <td>73.0</td>\n",
       "      <td>79.25</td>\n",
       "    </tr>\n",
       "    <tr>\n",
       "      <th>49</th>\n",
       "      <td>73.0</td>\n",
       "      <td>76.00</td>\n",
       "    </tr>\n",
       "    <tr>\n",
       "      <th>28</th>\n",
       "      <td>73.0</td>\n",
       "      <td>75.00</td>\n",
       "    </tr>\n",
       "    <tr>\n",
       "      <th>19</th>\n",
       "      <td>73.0</td>\n",
       "      <td>77.25</td>\n",
       "    </tr>\n",
       "  </tbody>\n",
       "</table>\n",
       "</div>"
      ],
      "text/plain": [
       "    Height (No Shoes)  Wingspan\n",
       "56               70.5     77.50\n",
       "37               73.0     79.25\n",
       "49               73.0     76.00\n",
       "28               73.0     75.00\n",
       "19               73.0     77.25"
      ]
     },
     "execution_count": 70,
     "metadata": {},
     "output_type": "execute_result"
    }
   ],
   "source": [
    "draft_2012 = pd.read_csv('Draft_2012.txt',delimiter=\",\")\n",
    "cols = [\"Height (No Shoes)\",\"Wingspan\"]\n",
    "draft_2012 = pd.DataFrame(draft_2012, columns = cols)\n",
    "draft_2012 = draft_2012.sort_values (by='Height (No Shoes)', ascending =True)\n",
    "draft_2012.head()"
   ]
  },
  {
   "cell_type": "code",
   "execution_count": 85,
   "id": "505ef2f0-4209-4dfb-892d-3639a16e08e4",
   "metadata": {},
   "outputs": [
    {
     "data": {
      "image/png": "[encoded data removed]",
      "text/plain": [
       "<Figure size 432x288 with 1 Axes>"
      ]
     },
     "metadata": {
      "needs_background": "light"
     },
     "output_type": "display_data"
    }
   ],
   "source": [
    "draft_plot = draft_2012.plot.line(x='Height (No Shoes)',y='Wingspan',c=\"red\", title = \"Wingspans in the 2012 Draft\") \n",
    "plt.xlabel('Height (in.)')  \n",
    "plt.ylabel('Wingspan (in.)') \n",
    "plt.savefig(\"Wingspans.pdf\", format=\"pdf\", bbox_inches=\"tight\")\n",
    "plt.show()"
   ]
  },
  {
   "cell_type": "markdown",
   "id": "e8552c30-6708-48b6-95ae-3ba6f56cd4cf",
   "metadata": {},
   "source": [
    "This plot shows the average wingspan for height in inches of players in the 2012 NBA Draft."
   ]
  },
  {
   "cell_type": "markdown",
   "id": "bacc7b53-bdda-4772-8acb-bdb838530b4f",
   "metadata": {},
   "source": [
    "I chose to make this plot the way I did because I belived I line graph would be the easiest way to show somewhat of a linear relationship between the 2 variables"
   ]
  },
  {
   "cell_type": "code",
   "execution_count": null,
   "id": "ab59c809-ece2-4977-b417-da8b3fcdffdf",
   "metadata": {},
   "outputs": [],
   "source": []
  }
 ],
 "metadata": {
  "jupytext": {
   "formats": "ipynb"
  },
  "kernelspec": {
   "display_name": "Python 3 (ipykernel)",
   "language": "python",
   "name": "python3"
  },
  "language_info": {
   "codemirror_mode": {
    "name": "ipython",
    "version": 3
   },
   "file_extension": ".py",
   "mimetype": "text/x-python",
   "name": "python",
   "nbconvert_exporter": "python",
   "pygments_lexer": "ipython3",
   "version": "3.9.12"
  }
 },
 "nbformat": 4,
 "nbformat_minor": 5
}
