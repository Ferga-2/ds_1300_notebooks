{
 "cells": [
  {
   "cell_type": "markdown",
   "id": "9b156401",
   "metadata": {
    "pycharm": {
     "name": "#%% md\n"
    }
   },
   "source": [
    "# Assignment: Working with Data"
   ]
  },
  {
   "cell_type": "markdown",
   "id": "5ccc6589",
   "metadata": {
    "pycharm": {
     "name": "#%% md\n"
    }
   },
   "source": [
    ">Using the data below, answer the following questions:\n",
    "\n",
    ">1) Which entities (top 5) had the largest population density in 2020?\n",
    ">2) Which entities have more water area than land area?\n",
    ">3) Which entities increased in population the most in the last 10 years?\n",
    ">4) What state bird accounts for the largest population as of 2020? Land area?\n",
    ">5) How many entities' largest city is their capital city?\n",
    ">6) Which city has the largest percent drop from their largest city to their 5th largest? 100*(1st largest - 5th largest)/(1st largest)"
   ]
  },
  {
   "cell_type": "code",
   "execution_count": 29,
   "id": "36ee659a",
   "metadata": {
    "pycharm": {
     "name": "#%%\n"
    }
   },
   "outputs": [],
   "source": [
    "import pandas as pd"
   ]
  },
  {
   "cell_type": "code",
   "execution_count": 30,
   "id": "e3a7f485",
   "metadata": {
    "pycharm": {
     "name": "#%%\n"
    }
   },
   "outputs": [
    {
     "data": {
      "text/html": [
       "<div>\n",
       "<style scoped>\n",
       "    .dataframe tbody tr th:only-of-type {\n",
       "        vertical-align: middle;\n",
       "    }\n",
       "\n",
       "    .dataframe tbody tr th {\n",
       "        vertical-align: top;\n",
       "    }\n",
       "\n",
       "    .dataframe thead th {\n",
       "        text-align: right;\n",
       "    }\n",
       "</style>\n",
       "<table border=\"1\" class=\"dataframe\">\n",
       "  <thead>\n",
       "    <tr style=\"text-align: right;\">\n",
       "      <th></th>\n",
       "      <th>State</th>\n",
       "      <th>Area_tot</th>\n",
       "      <th>Area_land</th>\n",
       "      <th>Area_water</th>\n",
       "      <th>Pop_2020</th>\n",
       "      <th>Pop_2010</th>\n",
       "      <th>Rep_seats</th>\n",
       "      <th>State_bird</th>\n",
       "      <th>State_flower</th>\n",
       "      <th>State_motto</th>\n",
       "      <th>...</th>\n",
       "      <th>City_1</th>\n",
       "      <th>city_1_pop</th>\n",
       "      <th>City_2</th>\n",
       "      <th>city_2_pop</th>\n",
       "      <th>City_3</th>\n",
       "      <th>city_3_pop</th>\n",
       "      <th>City_4</th>\n",
       "      <th>city_4_pop</th>\n",
       "      <th>City_5</th>\n",
       "      <th>city_5_pop</th>\n",
       "    </tr>\n",
       "  </thead>\n",
       "  <tbody>\n",
       "    <tr>\n",
       "      <th>0</th>\n",
       "      <td>Alabama</td>\n",
       "      <td>135767</td>\n",
       "      <td>131171</td>\n",
       "      <td>4597</td>\n",
       "      <td>5024279.0</td>\n",
       "      <td>4779736</td>\n",
       "      <td>7</td>\n",
       "      <td>Yellowhammer (Northern flicker)</td>\n",
       "      <td>Camellia</td>\n",
       "      <td>Audemus jura nostra defendere</td>\n",
       "      <td>...</td>\n",
       "      <td>Birmingham</td>\n",
       "      <td>208928</td>\n",
       "      <td>Huntsville</td>\n",
       "      <td>204189.0</td>\n",
       "      <td>Montgomery</td>\n",
       "      <td>198956.0</td>\n",
       "      <td>Mobile</td>\n",
       "      <td>189572.0</td>\n",
       "      <td>Tuscaloosa</td>\n",
       "      <td>101113.0</td>\n",
       "    </tr>\n",
       "    <tr>\n",
       "      <th>1</th>\n",
       "      <td>Alaska</td>\n",
       "      <td>1723337</td>\n",
       "      <td>1477953</td>\n",
       "      <td>245384</td>\n",
       "      <td>733391.0</td>\n",
       "      <td>710231</td>\n",
       "      <td>1</td>\n",
       "      <td>Willow ptarmigan</td>\n",
       "      <td>Forget-me-not</td>\n",
       "      <td>North to the Future</td>\n",
       "      <td>...</td>\n",
       "      <td>Anchorage</td>\n",
       "      <td>291538</td>\n",
       "      <td>Juneau</td>\n",
       "      <td>32197.0</td>\n",
       "      <td>Fairbanks</td>\n",
       "      <td>31516.0</td>\n",
       "      <td>Wasilla</td>\n",
       "      <td>10529.0</td>\n",
       "      <td>Sitka</td>\n",
       "      <td>8647.0</td>\n",
       "    </tr>\n",
       "    <tr>\n",
       "      <th>2</th>\n",
       "      <td>American Samoa</td>\n",
       "      <td>1505</td>\n",
       "      <td>198</td>\n",
       "      <td>1307</td>\n",
       "      <td>49437.0</td>\n",
       "      <td>55519</td>\n",
       "      <td>1*</td>\n",
       "      <td>None</td>\n",
       "      <td>Paogo (Ulafala)</td>\n",
       "      <td>Samoa, Muamua Le Atua</td>\n",
       "      <td>...</td>\n",
       "      <td>Tafuna</td>\n",
       "      <td>7945</td>\n",
       "      <td>Nu'uuli</td>\n",
       "      <td>3955.0</td>\n",
       "      <td>Pago Pago</td>\n",
       "      <td>3656.0</td>\n",
       "      <td>'Ili'ili</td>\n",
       "      <td>3195.0</td>\n",
       "      <td>Pava'ia'i</td>\n",
       "      <td>2450.0</td>\n",
       "    </tr>\n",
       "    <tr>\n",
       "      <th>3</th>\n",
       "      <td>Arizona</td>\n",
       "      <td>295234</td>\n",
       "      <td>294207</td>\n",
       "      <td>1026</td>\n",
       "      <td>7151502.0</td>\n",
       "      <td>6392017</td>\n",
       "      <td>9</td>\n",
       "      <td>Cactus wren</td>\n",
       "      <td>Saguaro cactus blossom</td>\n",
       "      <td>Ditat Deus</td>\n",
       "      <td>...</td>\n",
       "      <td>Phoenix</td>\n",
       "      <td>1660272</td>\n",
       "      <td>Tucson</td>\n",
       "      <td>545975.0</td>\n",
       "      <td>Mesa</td>\n",
       "      <td>508958.0</td>\n",
       "      <td>Chandler</td>\n",
       "      <td>257165.0</td>\n",
       "      <td>Scottsdale</td>\n",
       "      <td>255310.0</td>\n",
       "    </tr>\n",
       "    <tr>\n",
       "      <th>4</th>\n",
       "      <td>Arkansas</td>\n",
       "      <td>137732</td>\n",
       "      <td>134771</td>\n",
       "      <td>2961</td>\n",
       "      <td>3011524.0</td>\n",
       "      <td>2915918</td>\n",
       "      <td>4</td>\n",
       "      <td>Northern mockingbird</td>\n",
       "      <td>Apple blossom</td>\n",
       "      <td>Regnat populus</td>\n",
       "      <td>...</td>\n",
       "      <td>Little Rock</td>\n",
       "      <td>197881</td>\n",
       "      <td>Fort Smith</td>\n",
       "      <td>87845.0</td>\n",
       "      <td>Fayetteville</td>\n",
       "      <td>86751.0</td>\n",
       "      <td>Springdale</td>\n",
       "      <td>81029.0</td>\n",
       "      <td>Jonesboro</td>\n",
       "      <td>76990.0</td>\n",
       "    </tr>\n",
       "  </tbody>\n",
       "</table>\n",
       "<p>5 rows × 26 columns</p>\n",
       "</div>"
      ],
      "text/plain": [
       "              State  Area_tot  Area_land  Area_water   Pop_2020  Pop_2010  \\\n",
       "0          Alabama     135767     131171        4597  5024279.0   4779736   \n",
       "1           Alaska    1723337    1477953      245384   733391.0    710231   \n",
       "2   American Samoa       1505        198        1307    49437.0     55519   \n",
       "3          Arizona     295234     294207        1026  7151502.0   6392017   \n",
       "4         Arkansas     137732     134771        2961  3011524.0   2915918   \n",
       "\n",
       "  Rep_seats                        State_bird             State_flower  \\\n",
       "0         7  Yellowhammer (Northern flicker)                  Camellia   \n",
       "1         1                 Willow ptarmigan            Forget-me-not    \n",
       "2       1*                               None         Paogo (Ulafala)    \n",
       "3         9                      Cactus wren   Saguaro cactus blossom    \n",
       "4         4             Northern mockingbird            Apple blossom    \n",
       "\n",
       "                      State_motto  ...        City_1 city_1_pop       City_2  \\\n",
       "0  Audemus jura nostra defendere   ...   Birmingham      208928  Huntsville    \n",
       "1            North to the Future   ...    Anchorage      291538      Juneau    \n",
       "2          Samoa, Muamua Le Atua   ...       Tafuna        7945     Nu'uuli    \n",
       "3                     Ditat Deus   ...      Phoenix     1660272      Tucson    \n",
       "4                 Regnat populus   ...  Little Rock      197881  Fort Smith    \n",
       "\n",
       "   city_2_pop         City_3  city_3_pop       City_4  city_4_pop  \\\n",
       "0    204189.0    Montgomery     198956.0      Mobile     189572.0   \n",
       "1     32197.0     Fairbanks      31516.0     Wasilla      10529.0   \n",
       "2      3955.0     Pago Pago       3656.0    'Ili'ili       3195.0   \n",
       "3    545975.0          Mesa     508958.0    Chandler     257165.0   \n",
       "4     87845.0  Fayetteville      86751.0  Springdale      81029.0   \n",
       "\n",
       "        City_5  city_5_pop  \n",
       "0  Tuscaloosa     101113.0  \n",
       "1       Sitka       8647.0  \n",
       "2   Pava'ia'i       2450.0  \n",
       "3  Scottsdale     255310.0  \n",
       "4   Jonesboro      76990.0  \n",
       "\n",
       "[5 rows x 26 columns]"
      ]
     },
     "execution_count": 30,
     "metadata": {},
     "output_type": "execute_result"
    }
   ],
   "source": [
    "facts = pd.read_csv('../data/state_facts.tsv',delimiter=\"\\t\")\n",
    "facts.head()"
   ]
  },
  {
   "cell_type": "code",
   "execution_count": 31,
   "id": "e9d26a9a-d902-4196-aaa1-f1dffe91f50d",
   "metadata": {
    "tags": []
   },
   "outputs": [
    {
     "data": {
      "text/plain": [
       "Index(['State', 'Area_tot', 'Area_land', 'Area_water', 'Pop_2020', 'Pop_2010',\n",
       "       'Rep_seats', 'State_bird', 'State_flower', 'State_motto', 'Motto_trans',\n",
       "       'USPS_code', 'GDP_2020', 'GDP_2019', 'Capital', 'Capital_pop', 'City_1',\n",
       "       'city_1_pop', 'City_2', 'city_2_pop', 'City_3', 'city_3_pop', 'City_4',\n",
       "       'city_4_pop', 'City_5', 'city_5_pop'],\n",
       "      dtype='object')"
      ]
     },
     "execution_count": 31,
     "metadata": {},
     "output_type": "execute_result"
    }
   ],
   "source": [
    "facts.columns"
   ]
  },
  {
   "cell_type": "code",
   "execution_count": 60,
   "id": "5180a563-319d-45e8-8967-43d5bce5ad2f",
   "metadata": {
    "tags": []
   },
   "outputs": [
    {
     "data": {
      "text/html": [
       "<div>\n",
       "<style scoped>\n",
       "    .dataframe tbody tr th:only-of-type {\n",
       "        vertical-align: middle;\n",
       "    }\n",
       "\n",
       "    .dataframe tbody tr th {\n",
       "        vertical-align: top;\n",
       "    }\n",
       "\n",
       "    .dataframe thead th {\n",
       "        text-align: right;\n",
       "    }\n",
       "</style>\n",
       "<table border=\"1\" class=\"dataframe\">\n",
       "  <thead>\n",
       "    <tr style=\"text-align: right;\">\n",
       "      <th></th>\n",
       "      <th>State</th>\n",
       "      <th>Pop_density</th>\n",
       "    </tr>\n",
       "  </thead>\n",
       "  <tbody>\n",
       "    <tr>\n",
       "      <th>9</th>\n",
       "      <td>District of Columbia</td>\n",
       "      <td>4364.208861</td>\n",
       "    </tr>\n",
       "    <tr>\n",
       "      <th>32</th>\n",
       "      <td>New Jersey</td>\n",
       "      <td>487.688035</td>\n",
       "    </tr>\n",
       "    <tr>\n",
       "      <th>43</th>\n",
       "      <td>Rhode Island</td>\n",
       "      <td>409.775579</td>\n",
       "    </tr>\n",
       "    <tr>\n",
       "      <th>42</th>\n",
       "      <td>Puerto Rico</td>\n",
       "      <td>370.531574</td>\n",
       "    </tr>\n",
       "    <tr>\n",
       "      <th>23</th>\n",
       "      <td>Massachusetts</td>\n",
       "      <td>347.981239</td>\n",
       "    </tr>\n",
       "  </tbody>\n",
       "</table>\n",
       "</div>"
      ],
      "text/plain": [
       "                     State  Pop_density\n",
       "9    District of Columbia   4364.208861\n",
       "32             New Jersey    487.688035\n",
       "43           Rhode Island    409.775579\n",
       "42            Puerto Rico    370.531574\n",
       "23          Massachusetts    347.981239"
      ]
     },
     "execution_count": 60,
     "metadata": {},
     "output_type": "execute_result"
    }
   ],
   "source": [
    "#1\n",
    "Pop_density = facts[\"Pop_2020\"]/facts[\"Area_land\"]\n",
    "density = pd.DataFrame({'State':facts['State'],'Pop_density':Pop_density})\n",
    "facts1 = density.sort_values(by=['Pop_density'],ascending=False)\n",
    "facts1.head(5)"
   ]
  },
  {
   "cell_type": "code",
   "execution_count": 344,
   "id": "5eaf74e5-9cde-42ca-bd9f-762e0c9f8d7e",
   "metadata": {
    "tags": []
   },
   "outputs": [
    {
     "data": {
      "text/html": [
       "<div>\n",
       "<style scoped>\n",
       "    .dataframe tbody tr th:only-of-type {\n",
       "        vertical-align: middle;\n",
       "    }\n",
       "\n",
       "    .dataframe tbody tr th {\n",
       "        vertical-align: top;\n",
       "    }\n",
       "\n",
       "    .dataframe thead th {\n",
       "        text-align: right;\n",
       "    }\n",
       "</style>\n",
       "<table border=\"1\" class=\"dataframe\">\n",
       "  <thead>\n",
       "    <tr style=\"text-align: right;\">\n",
       "      <th></th>\n",
       "      <th>State</th>\n",
       "      <th>More_water</th>\n",
       "    </tr>\n",
       "  </thead>\n",
       "  <tbody>\n",
       "    <tr>\n",
       "      <th>2</th>\n",
       "      <td>american samoa</td>\n",
       "      <td>True</td>\n",
       "    </tr>\n",
       "    <tr>\n",
       "      <th>48</th>\n",
       "      <td>united states virgin islands</td>\n",
       "      <td>True</td>\n",
       "    </tr>\n",
       "    <tr>\n",
       "      <th>37</th>\n",
       "      <td>northern mariana islands</td>\n",
       "      <td>True</td>\n",
       "    </tr>\n",
       "    <tr>\n",
       "      <th>12</th>\n",
       "      <td>guam</td>\n",
       "      <td>True</td>\n",
       "    </tr>\n",
       "  </tbody>\n",
       "</table>\n",
       "</div>"
      ],
      "text/plain": [
       "                           State  More_water\n",
       "2                 american samoa        True\n",
       "48  united states virgin islands        True\n",
       "37      northern mariana islands        True\n",
       "12                          guam        True"
      ]
     },
     "execution_count": 344,
     "metadata": {},
     "output_type": "execute_result"
    }
   ],
   "source": [
    "#2\n",
    "More_water =  (facts['Area_water']>facts[\"Area_land\"])\n",
    "water = pd.DataFrame({'State':facts['State'],'More_water':More_water})\n",
    "facts2 = water.sort_values(by=['More_water'],ascending=False)\n",
    "facts2.head(4)"
   ]
  },
  {
   "cell_type": "code",
   "execution_count": 54,
   "id": "3f49ede7-3dd6-4f28-9be9-614f9bdd807f",
   "metadata": {},
   "outputs": [
    {
     "data": {
      "text/html": [
       "<div>\n",
       "<style scoped>\n",
       "    .dataframe tbody tr th:only-of-type {\n",
       "        vertical-align: middle;\n",
       "    }\n",
       "\n",
       "    .dataframe tbody tr th {\n",
       "        vertical-align: top;\n",
       "    }\n",
       "\n",
       "    .dataframe thead th {\n",
       "        text-align: right;\n",
       "    }\n",
       "</style>\n",
       "<table border=\"1\" class=\"dataframe\">\n",
       "  <thead>\n",
       "    <tr style=\"text-align: right;\">\n",
       "      <th></th>\n",
       "      <th>State</th>\n",
       "      <th>Pop_increase</th>\n",
       "    </tr>\n",
       "  </thead>\n",
       "  <tbody>\n",
       "    <tr>\n",
       "      <th>47</th>\n",
       "      <td>Texas</td>\n",
       "      <td>3999944.0</td>\n",
       "    </tr>\n",
       "    <tr>\n",
       "      <th>10</th>\n",
       "      <td>Florida</td>\n",
       "      <td>2736877.0</td>\n",
       "    </tr>\n",
       "    <tr>\n",
       "      <th>5</th>\n",
       "      <td>California</td>\n",
       "      <td>2284267.0</td>\n",
       "    </tr>\n",
       "    <tr>\n",
       "      <th>11</th>\n",
       "      <td>Georgia</td>\n",
       "      <td>1024255.0</td>\n",
       "    </tr>\n",
       "    <tr>\n",
       "      <th>52</th>\n",
       "      <td>Washington</td>\n",
       "      <td>980741.0</td>\n",
       "    </tr>\n",
       "  </tbody>\n",
       "</table>\n",
       "</div>"
      ],
      "text/plain": [
       "           State  Pop_increase\n",
       "47        Texas      3999944.0\n",
       "10      Florida      2736877.0\n",
       "5    California      2284267.0\n",
       "11      Georgia      1024255.0\n",
       "52   Washington       980741.0"
      ]
     },
     "execution_count": 54,
     "metadata": {},
     "output_type": "execute_result"
    }
   ],
   "source": [
    "#3\n",
    "Pop_increase = facts[\"Pop_2020\"] - facts[\"Pop_2010\"]\n",
    "increase = pd.DataFrame({'State':facts['State'],'Pop_increase':Pop_increase})\n",
    "facts3 = increase.sort_values(by = \"Pop_increase\",ascending = False)\n",
    "facts3.head()"
   ]
  },
  {
   "cell_type": "code",
   "execution_count": 80,
   "id": "30ed0baa-4232-40e5-8a7c-31d64842db8d",
   "metadata": {},
   "outputs": [],
   "source": [
    "#4\n",
    "cols = [\"State\",\"State_bird\",\"Pop_2020\",\"Area_land\"]\n",
    "facts4 =pd.DataFrame(facts, columns = cols)"
   ]
  },
  {
   "cell_type": "code",
   "execution_count": 346,
   "id": "f77df081-aed4-4916-8de0-15a0906d7d62",
   "metadata": {},
   "outputs": [
    {
     "data": {
      "text/html": [
       "<div>\n",
       "<style scoped>\n",
       "    .dataframe tbody tr th:only-of-type {\n",
       "        vertical-align: middle;\n",
       "    }\n",
       "\n",
       "    .dataframe tbody tr th {\n",
       "        vertical-align: top;\n",
       "    }\n",
       "\n",
       "    .dataframe thead th {\n",
       "        text-align: right;\n",
       "    }\n",
       "</style>\n",
       "<table border=\"1\" class=\"dataframe\">\n",
       "  <thead>\n",
       "    <tr style=\"text-align: right;\">\n",
       "      <th></th>\n",
       "      <th>State</th>\n",
       "      <th>State_bird</th>\n",
       "      <th>Pop_2020</th>\n",
       "    </tr>\n",
       "  </thead>\n",
       "  <tbody>\n",
       "    <tr>\n",
       "      <th>5</th>\n",
       "      <td>California</td>\n",
       "      <td>California quail</td>\n",
       "      <td>39538223.0</td>\n",
       "    </tr>\n",
       "  </tbody>\n",
       "</table>\n",
       "</div>"
      ],
      "text/plain": [
       "          State         State_bird    Pop_2020\n",
       "5   California   California quail   39538223.0"
      ]
     },
     "execution_count": 346,
     "metadata": {},
     "output_type": "execute_result"
    }
   ],
   "source": [
    "Bird_pop = facts4.sort_values(by = \"Pop_2020\",ascending = False)\n",
    "Bird_pop.head(1).drop(columns=['Area_land'])\n"
   ]
  },
  {
   "cell_type": "code",
   "execution_count": 347,
   "id": "c800f05b-41c6-486c-aa04-0394d84b0ecf",
   "metadata": {},
   "outputs": [
    {
     "data": {
      "text/html": [
       "<div>\n",
       "<style scoped>\n",
       "    .dataframe tbody tr th:only-of-type {\n",
       "        vertical-align: middle;\n",
       "    }\n",
       "\n",
       "    .dataframe tbody tr th {\n",
       "        vertical-align: top;\n",
       "    }\n",
       "\n",
       "    .dataframe thead th {\n",
       "        text-align: right;\n",
       "    }\n",
       "</style>\n",
       "<table border=\"1\" class=\"dataframe\">\n",
       "  <thead>\n",
       "    <tr style=\"text-align: right;\">\n",
       "      <th></th>\n",
       "      <th>State</th>\n",
       "      <th>State_bird</th>\n",
       "      <th>Area_land</th>\n",
       "    </tr>\n",
       "  </thead>\n",
       "  <tbody>\n",
       "    <tr>\n",
       "      <th>1</th>\n",
       "      <td>Alaska</td>\n",
       "      <td>Willow ptarmigan</td>\n",
       "      <td>1477953</td>\n",
       "    </tr>\n",
       "  </tbody>\n",
       "</table>\n",
       "</div>"
      ],
      "text/plain": [
       "      State         State_bird  Area_land\n",
       "1   Alaska   Willow ptarmigan     1477953"
      ]
     },
     "execution_count": 347,
     "metadata": {},
     "output_type": "execute_result"
    }
   ],
   "source": [
    "Bird_area = facts4.sort_values(by = \"Area_land\",ascending = False)\n",
    "Bird_area.head(1).drop(columns=['Pop_2020'])"
   ]
  },
  {
   "cell_type": "code",
   "execution_count": 184,
   "id": "09f49979-fe84-46bb-be2f-2d51261a9ece",
   "metadata": {
    "tags": []
   },
   "outputs": [
    {
     "data": {
      "text/html": [
       "<div>\n",
       "<style scoped>\n",
       "    .dataframe tbody tr th:only-of-type {\n",
       "        vertical-align: middle;\n",
       "    }\n",
       "\n",
       "    .dataframe tbody tr th {\n",
       "        vertical-align: top;\n",
       "    }\n",
       "\n",
       "    .dataframe thead th {\n",
       "        text-align: right;\n",
       "    }\n",
       "</style>\n",
       "<table border=\"1\" class=\"dataframe\">\n",
       "  <thead>\n",
       "    <tr style=\"text-align: right;\">\n",
       "      <th></th>\n",
       "      <th>State</th>\n",
       "      <th>Capital_pop</th>\n",
       "      <th>city_1_pop</th>\n",
       "      <th>city_2_pop</th>\n",
       "      <th>city_3_pop</th>\n",
       "      <th>city_4_pop</th>\n",
       "      <th>city_5_pop</th>\n",
       "    </tr>\n",
       "  </thead>\n",
       "  <tbody>\n",
       "    <tr>\n",
       "      <th>0</th>\n",
       "      <td>Alabama</td>\n",
       "      <td>198525</td>\n",
       "      <td>208928</td>\n",
       "      <td>204189.0</td>\n",
       "      <td>198956.0</td>\n",
       "      <td>189572.0</td>\n",
       "      <td>101113.0</td>\n",
       "    </tr>\n",
       "    <tr>\n",
       "      <th>1</th>\n",
       "      <td>Alaska</td>\n",
       "      <td>32113</td>\n",
       "      <td>291538</td>\n",
       "      <td>32197.0</td>\n",
       "      <td>31516.0</td>\n",
       "      <td>10529.0</td>\n",
       "      <td>8647.0</td>\n",
       "    </tr>\n",
       "    <tr>\n",
       "      <th>2</th>\n",
       "      <td>American Samoa</td>\n",
       "      <td>3656</td>\n",
       "      <td>7945</td>\n",
       "      <td>3955.0</td>\n",
       "      <td>3656.0</td>\n",
       "      <td>3195.0</td>\n",
       "      <td>2450.0</td>\n",
       "    </tr>\n",
       "    <tr>\n",
       "      <th>3</th>\n",
       "      <td>Arizona</td>\n",
       "      <td>1680992</td>\n",
       "      <td>1660272</td>\n",
       "      <td>545975.0</td>\n",
       "      <td>508958.0</td>\n",
       "      <td>257165.0</td>\n",
       "      <td>255310.0</td>\n",
       "    </tr>\n",
       "    <tr>\n",
       "      <th>4</th>\n",
       "      <td>Arkansas</td>\n",
       "      <td>197312</td>\n",
       "      <td>197881</td>\n",
       "      <td>87845.0</td>\n",
       "      <td>86751.0</td>\n",
       "      <td>81029.0</td>\n",
       "      <td>76990.0</td>\n",
       "    </tr>\n",
       "  </tbody>\n",
       "</table>\n",
       "</div>"
      ],
      "text/plain": [
       "              State  Capital_pop  city_1_pop  city_2_pop  city_3_pop  \\\n",
       "0          Alabama        198525      208928    204189.0    198956.0   \n",
       "1           Alaska         32113      291538     32197.0     31516.0   \n",
       "2   American Samoa          3656        7945      3955.0      3656.0   \n",
       "3          Arizona       1680992     1660272    545975.0    508958.0   \n",
       "4         Arkansas        197312      197881     87845.0     86751.0   \n",
       "\n",
       "   city_4_pop  city_5_pop  \n",
       "0    189572.0    101113.0  \n",
       "1     10529.0      8647.0  \n",
       "2      3195.0      2450.0  \n",
       "3    257165.0    255310.0  \n",
       "4     81029.0     76990.0  "
      ]
     },
     "execution_count": 184,
     "metadata": {},
     "output_type": "execute_result"
    }
   ],
   "source": [
    "#5\n",
    "cols = [\"State\",'Capital_pop','city_1_pop','city_2_pop','city_3_pop','city_4_pop','city_5_pop']\n",
    "facts5 = pd.DataFrame(facts, columns = cols)\n",
    "facts5.head()"
   ]
  },
  {
   "cell_type": "code",
   "execution_count": 156,
   "id": "cc2ba66d-c920-4d67-8e43-ef884327f384",
   "metadata": {
    "tags": []
   },
   "outputs": [
    {
     "data": {
      "text/html": [
       "<div>\n",
       "<style scoped>\n",
       "    .dataframe tbody tr th:only-of-type {\n",
       "        vertical-align: middle;\n",
       "    }\n",
       "\n",
       "    .dataframe tbody tr th {\n",
       "        vertical-align: top;\n",
       "    }\n",
       "\n",
       "    .dataframe thead th {\n",
       "        text-align: right;\n",
       "    }\n",
       "</style>\n",
       "<table border=\"1\" class=\"dataframe\">\n",
       "  <thead>\n",
       "    <tr style=\"text-align: right;\">\n",
       "      <th></th>\n",
       "      <th>State</th>\n",
       "      <th>cpgt</th>\n",
       "    </tr>\n",
       "  </thead>\n",
       "  <tbody>\n",
       "    <tr>\n",
       "      <th>55</th>\n",
       "      <td>Wyoming</td>\n",
       "      <td>True</td>\n",
       "    </tr>\n",
       "    <tr>\n",
       "      <th>43</th>\n",
       "      <td>Rhode Island</td>\n",
       "      <td>True</td>\n",
       "    </tr>\n",
       "    <tr>\n",
       "      <th>16</th>\n",
       "      <td>Indiana</td>\n",
       "      <td>True</td>\n",
       "    </tr>\n",
       "    <tr>\n",
       "      <th>14</th>\n",
       "      <td>Idaho</td>\n",
       "      <td>True</td>\n",
       "    </tr>\n",
       "    <tr>\n",
       "      <th>39</th>\n",
       "      <td>Oklahoma</td>\n",
       "      <td>True</td>\n",
       "    </tr>\n",
       "  </tbody>\n",
       "</table>\n",
       "</div>"
      ],
      "text/plain": [
       "             State  cpgt\n",
       "55        Wyoming   True\n",
       "43   Rhode Island   True\n",
       "16        Indiana   True\n",
       "14          Idaho   True\n",
       "39       Oklahoma   True"
      ]
     },
     "execution_count": 156,
     "metadata": {},
     "output_type": "execute_result"
    }
   ],
   "source": [
    "cpgt = (facts['Capital_pop']>=facts['city_1_pop'])&(facts['Capital_pop']>=facts['city_2_pop'])&(facts['Capital_pop']>=facts['city_3_pop'])&(facts['Capital_pop']>=facts['city_4_pop'])&(facts['Capital_pop']>=facts['city_5_pop'])\n",
    "capital_pop = pd.DataFrame({'State':facts['State'],'cpgt':cpgt})\n",
    "Facts5 = capital_pop.sort_values(by=['cpgt'],ascending=False)\n",
    "Facts5.head()"
   ]
  },
  {
   "cell_type": "code",
   "execution_count": 164,
   "id": "77b30224-9851-4064-8bd2-c0ca0faea642",
   "metadata": {},
   "outputs": [
    {
     "name": "stdout",
     "output_type": "stream",
     "text": [
      "The number of entities whos largest city is their capital is 11\n"
     ]
    }
   ],
   "source": [
    "Factss5 = Facts5[\"cpgt\"].sum()\n",
    "print(\"The number of entities whos largest city is their capital is\",Factss5)"
   ]
  },
  {
   "cell_type": "code",
   "execution_count": 171,
   "id": "6274939e-c257-466a-9632-dbed15c62dac",
   "metadata": {},
   "outputs": [
    {
     "data": {
      "text/html": [
       "<div>\n",
       "<style scoped>\n",
       "    .dataframe tbody tr th:only-of-type {\n",
       "        vertical-align: middle;\n",
       "    }\n",
       "\n",
       "    .dataframe tbody tr th {\n",
       "        vertical-align: top;\n",
       "    }\n",
       "\n",
       "    .dataframe thead th {\n",
       "        text-align: right;\n",
       "    }\n",
       "</style>\n",
       "<table border=\"1\" class=\"dataframe\">\n",
       "  <thead>\n",
       "    <tr style=\"text-align: right;\">\n",
       "      <th></th>\n",
       "      <th>State</th>\n",
       "      <th>Capital_pop</th>\n",
       "      <th>city_1_pop</th>\n",
       "      <th>city_2_pop</th>\n",
       "      <th>city_3_pop</th>\n",
       "      <th>city_4_pop</th>\n",
       "      <th>city_5_pop</th>\n",
       "    </tr>\n",
       "  </thead>\n",
       "  <tbody>\n",
       "    <tr>\n",
       "      <th>0</th>\n",
       "      <td>Alabama</td>\n",
       "      <td>198525</td>\n",
       "      <td>208928</td>\n",
       "      <td>204189.0</td>\n",
       "      <td>198956.0</td>\n",
       "      <td>189572.0</td>\n",
       "      <td>101113.0</td>\n",
       "    </tr>\n",
       "    <tr>\n",
       "      <th>1</th>\n",
       "      <td>Alaska</td>\n",
       "      <td>32113</td>\n",
       "      <td>291538</td>\n",
       "      <td>32197.0</td>\n",
       "      <td>31516.0</td>\n",
       "      <td>10529.0</td>\n",
       "      <td>8647.0</td>\n",
       "    </tr>\n",
       "    <tr>\n",
       "      <th>2</th>\n",
       "      <td>American Samoa</td>\n",
       "      <td>3656</td>\n",
       "      <td>7945</td>\n",
       "      <td>3955.0</td>\n",
       "      <td>3656.0</td>\n",
       "      <td>3195.0</td>\n",
       "      <td>2450.0</td>\n",
       "    </tr>\n",
       "    <tr>\n",
       "      <th>3</th>\n",
       "      <td>Arizona</td>\n",
       "      <td>1680992</td>\n",
       "      <td>1660272</td>\n",
       "      <td>545975.0</td>\n",
       "      <td>508958.0</td>\n",
       "      <td>257165.0</td>\n",
       "      <td>255310.0</td>\n",
       "    </tr>\n",
       "    <tr>\n",
       "      <th>4</th>\n",
       "      <td>Arkansas</td>\n",
       "      <td>197312</td>\n",
       "      <td>197881</td>\n",
       "      <td>87845.0</td>\n",
       "      <td>86751.0</td>\n",
       "      <td>81029.0</td>\n",
       "      <td>76990.0</td>\n",
       "    </tr>\n",
       "  </tbody>\n",
       "</table>\n",
       "</div>"
      ],
      "text/plain": [
       "              State  Capital_pop  city_1_pop  city_2_pop  city_3_pop  \\\n",
       "0          Alabama        198525      208928    204189.0    198956.0   \n",
       "1           Alaska         32113      291538     32197.0     31516.0   \n",
       "2   American Samoa          3656        7945      3955.0      3656.0   \n",
       "3          Arizona       1680992     1660272    545975.0    508958.0   \n",
       "4         Arkansas        197312      197881     87845.0     86751.0   \n",
       "\n",
       "   city_4_pop  city_5_pop  \n",
       "0    189572.0    101113.0  \n",
       "1     10529.0      8647.0  \n",
       "2      3195.0      2450.0  \n",
       "3    257165.0    255310.0  \n",
       "4     81029.0     76990.0  "
      ]
     },
     "execution_count": 171,
     "metadata": {},
     "output_type": "execute_result"
    }
   ],
   "source": [
    "#6\n",
    "facts5.head()"
   ]
  },
  {
   "cell_type": "code",
   "execution_count": 191,
   "id": "04ef9a70-5851-499a-91ef-1c4c5c5b57a6",
   "metadata": {},
   "outputs": [
    {
     "data": {
      "text/html": [
       "<div>\n",
       "<style scoped>\n",
       "    .dataframe tbody tr th:only-of-type {\n",
       "        vertical-align: middle;\n",
       "    }\n",
       "\n",
       "    .dataframe tbody tr th {\n",
       "        vertical-align: top;\n",
       "    }\n",
       "\n",
       "    .dataframe thead th {\n",
       "        text-align: right;\n",
       "    }\n",
       "</style>\n",
       "<table border=\"1\" class=\"dataframe\">\n",
       "  <thead>\n",
       "    <tr style=\"text-align: right;\">\n",
       "      <th></th>\n",
       "      <th>State</th>\n",
       "      <th>Percentage_increase</th>\n",
       "    </tr>\n",
       "  </thead>\n",
       "  <tbody>\n",
       "    <tr>\n",
       "      <th>34</th>\n",
       "      <td>New York</td>\n",
       "      <td>98.392453</td>\n",
       "    </tr>\n",
       "  </tbody>\n",
       "</table>\n",
       "</div>"
      ],
      "text/plain": [
       "         State  Percentage_increase\n",
       "34   New York             98.392453"
      ]
     },
     "execution_count": 191,
     "metadata": {},
     "output_type": "execute_result"
    }
   ],
   "source": [
    "Percentage_increase = 100*(facts5[\"city_1_pop\"] - facts[\"city_5_pop\"])/facts5[\"city_1_pop\"]\n",
    "percentage = pd.DataFrame({'State':facts['State'],'Percentage_increase':Percentage_increase})\n",
    "facts6 = percentage.sort_values(by=['Percentage_increase'],ascending=False)\n",
    "facts6.head(1)"
   ]
  },
  {
   "cell_type": "markdown",
   "id": "72945949",
   "metadata": {
    "pycharm": {
     "name": "#%% md\n"
    }
   },
   "source": [
    ">Using the \"state_dates.tsv\" data, answer the remaining questions. You will need to merge the two data sets together:\n",
    "\n",
    ">7) Of the states that joined the United States before 1790, what is the most common state flower?\n",
    ">8) Which has the larger population density, the most dense US Territory or the least dense state?\n",
    ">9) Make a graph that plots the populations of the largest city in each entity in the order in which they joined the US. Make the bars black\n",
    ">10) Make two additional graphs like the one above but one for land area (green bars) and one for water area (blue bars)"
   ]
  },
  {
   "cell_type": "code",
   "execution_count": 315,
   "id": "49c57f8e-1cbc-4cf0-b7ea-ee68e2dbf6b2",
   "metadata": {},
   "outputs": [],
   "source": [
    "#7\n",
    "dates = pd.read_csv('../data/state_dates.tsv',delimiter=\"\\t\")\n",
    "dates[\"Name\" ] = dates[\"Name\"].str.lower()\n",
    "facts[\"State\"] = facts [\"State\"].str.lower()\n",
    "dates[ \"Name\"] = dates [\"Name\"].str.strip()\n",
    "facts[\"State\"]= facts[\"State\"].str.strip()\n",
    "dates.Date = pd.to_datetime (dates ['Date'])\n",
    "merged= dates.merge(facts, left_on='Name', right_on='State', how='inner')"
   ]
  },
  {
   "cell_type": "code",
   "execution_count": 316,
   "id": "50dad201-b863-4319-b111-f7d1c6eb00b5",
   "metadata": {},
   "outputs": [
    {
     "data": {
      "text/html": [
       "<div>\n",
       "<style scoped>\n",
       "    .dataframe tbody tr th:only-of-type {\n",
       "        vertical-align: middle;\n",
       "    }\n",
       "\n",
       "    .dataframe tbody tr th {\n",
       "        vertical-align: top;\n",
       "    }\n",
       "\n",
       "    .dataframe thead th {\n",
       "        text-align: right;\n",
       "    }\n",
       "</style>\n",
       "<table border=\"1\" class=\"dataframe\">\n",
       "  <thead>\n",
       "    <tr style=\"text-align: right;\">\n",
       "      <th></th>\n",
       "      <th>State</th>\n",
       "      <th>Date</th>\n",
       "      <th>State_flower</th>\n",
       "    </tr>\n",
       "  </thead>\n",
       "  <tbody>\n",
       "    <tr>\n",
       "      <th>0</th>\n",
       "      <td>alabama</td>\n",
       "      <td>1819-12-14</td>\n",
       "      <td>Camellia</td>\n",
       "    </tr>\n",
       "    <tr>\n",
       "      <th>1</th>\n",
       "      <td>alaska</td>\n",
       "      <td>1959-01-03</td>\n",
       "      <td>Forget-me-not</td>\n",
       "    </tr>\n",
       "    <tr>\n",
       "      <th>2</th>\n",
       "      <td>american samoa</td>\n",
       "      <td>1900-04-17</td>\n",
       "      <td>Paogo (Ulafala)</td>\n",
       "    </tr>\n",
       "    <tr>\n",
       "      <th>3</th>\n",
       "      <td>arizona</td>\n",
       "      <td>1912-02-14</td>\n",
       "      <td>Saguaro cactus blossom</td>\n",
       "    </tr>\n",
       "    <tr>\n",
       "      <th>4</th>\n",
       "      <td>arkansas</td>\n",
       "      <td>1836-06-15</td>\n",
       "      <td>Apple blossom</td>\n",
       "    </tr>\n",
       "  </tbody>\n",
       "</table>\n",
       "</div>"
      ],
      "text/plain": [
       "            State       Date             State_flower\n",
       "0         alabama 1819-12-14                 Camellia\n",
       "1          alaska 1959-01-03           Forget-me-not \n",
       "2  american samoa 1900-04-17         Paogo (Ulafala) \n",
       "3         arizona 1912-02-14  Saguaro cactus blossom \n",
       "4        arkansas 1836-06-15           Apple blossom "
      ]
     },
     "execution_count": 316,
     "metadata": {},
     "output_type": "execute_result"
    }
   ],
   "source": [
    "cols = [\"State\",'Date','State_flower']\n",
    "facts7 = pd.DataFrame(merged, columns = cols)\n",
    "facts7.head()"
   ]
  },
  {
   "cell_type": "code",
   "execution_count": 319,
   "id": "a0ff38bd-bb54-4b53-b63a-8c3a4fce8b87",
   "metadata": {
    "tags": []
   },
   "outputs": [
    {
     "name": "stderr",
     "output_type": "stream",
     "text": [
      "/var/folders/wx/pnzp2mcx6dn3bpbrl16v7f3w0000gn/T/ipykernel_3818/2078879324.py:1: FutureWarning: The pandas.datetime class is deprecated and will be removed from pandas in a future version. Import from datetime module instead.\n",
      "  facts7[facts7['Date']<pd.datetime(1790,1,1)]['State_flower'].value_counts().head(1)\n"
     ]
    },
    {
     "data": {
      "text/plain": [
       "Mountain laurel    2\n",
       "Name: State_flower, dtype: int64"
      ]
     },
     "execution_count": 319,
     "metadata": {},
     "output_type": "execute_result"
    }
   ],
   "source": [
    "facts7[facts7['Date']<pd.datetime(1790,1,1)]['State_flower'].value_counts().head(1)"
   ]
  },
  {
   "cell_type": "code",
   "execution_count": 327,
   "id": "b2f77588-a609-46a4-9172-c23d0eec9826",
   "metadata": {
    "tags": []
   },
   "outputs": [
    {
     "data": {
      "text/html": [
       "<div>\n",
       "<style scoped>\n",
       "    .dataframe tbody tr th:only-of-type {\n",
       "        vertical-align: middle;\n",
       "    }\n",
       "\n",
       "    .dataframe tbody tr th {\n",
       "        vertical-align: top;\n",
       "    }\n",
       "\n",
       "    .dataframe thead th {\n",
       "        text-align: right;\n",
       "    }\n",
       "</style>\n",
       "<table border=\"1\" class=\"dataframe\">\n",
       "  <thead>\n",
       "    <tr style=\"text-align: right;\">\n",
       "      <th></th>\n",
       "      <th>Name</th>\n",
       "      <th>Date</th>\n",
       "      <th>Status</th>\n",
       "      <th>Abbreviation</th>\n",
       "      <th>State</th>\n",
       "      <th>Area_tot</th>\n",
       "      <th>Area_land</th>\n",
       "      <th>Area_water</th>\n",
       "      <th>Pop_2020</th>\n",
       "      <th>Pop_2010</th>\n",
       "      <th>...</th>\n",
       "      <th>city_1_pop</th>\n",
       "      <th>City_2</th>\n",
       "      <th>city_2_pop</th>\n",
       "      <th>City_3</th>\n",
       "      <th>city_3_pop</th>\n",
       "      <th>City_4</th>\n",
       "      <th>city_4_pop</th>\n",
       "      <th>City_5</th>\n",
       "      <th>city_5_pop</th>\n",
       "      <th>Pop_increase</th>\n",
       "    </tr>\n",
       "  </thead>\n",
       "  <tbody>\n",
       "    <tr>\n",
       "      <th>42</th>\n",
       "      <td>puerto rico</td>\n",
       "      <td>1899-04-11</td>\n",
       "      <td>Territory</td>\n",
       "      <td>PR</td>\n",
       "      <td>puerto rico</td>\n",
       "      <td>13791</td>\n",
       "      <td>8868</td>\n",
       "      <td>4924</td>\n",
       "      <td>3285874.0</td>\n",
       "      <td>3725789</td>\n",
       "      <td>...</td>\n",
       "      <td>320967</td>\n",
       "      <td>Bayamón</td>\n",
       "      <td>170480.0</td>\n",
       "      <td>Carolina</td>\n",
       "      <td>147661.0</td>\n",
       "      <td>Ponce</td>\n",
       "      <td>133191.0</td>\n",
       "      <td>Caguas</td>\n",
       "      <td>124434.0</td>\n",
       "      <td>-439915.0</td>\n",
       "    </tr>\n",
       "  </tbody>\n",
       "</table>\n",
       "<p>1 rows × 31 columns</p>\n",
       "</div>"
      ],
      "text/plain": [
       "           Name       Date     Status Abbreviation        State  Area_tot  \\\n",
       "42  puerto rico 1899-04-11  Territory           PR  puerto rico     13791   \n",
       "\n",
       "    Area_land  Area_water   Pop_2020  Pop_2010  ... city_1_pop    City_2  \\\n",
       "42       8868        4924  3285874.0   3725789  ...     320967  Bayamón    \n",
       "\n",
       "   city_2_pop     City_3 city_3_pop  City_4  city_4_pop   City_5 city_5_pop  \\\n",
       "42   170480.0  Carolina    147661.0  Ponce     133191.0  Caguas    124434.0   \n",
       "\n",
       "    Pop_increase  \n",
       "42     -439915.0  \n",
       "\n",
       "[1 rows x 31 columns]"
      ]
     },
     "execution_count": 327,
     "metadata": {},
     "output_type": "execute_result"
    }
   ],
   "source": [
    "#8\n",
    "merged[\"Status\"].value_counts()\n",
    "most_dense = merged [merged ['Status'] == 'Territory']\n",
    "territory = most_dense.sort_values (by='Pop_2020', ascending =False)\n",
    "territory.head(1)"
   ]
  },
  {
   "cell_type": "markdown",
   "id": "07f7ec57",
   "metadata": {
    "pycharm": {
     "name": "#%% md\n"
    }
   },
   "source": [
    "Hint: `pd.read_csv('../data/state_dates.tsv',delimiter=\"\\t\")`\n",
    "\n",
    "Hint: You likely want to convert the Date column to datetime. You might have to correct errors in the data as well.\n",
    "\n",
    "Hint: `states['Date']<pd.datetime(1790,1,1)`\n",
    "\n",
    "Hint: `pd.merge(****,****,left_on='USPS_code',right_on='Abbreviation',how='outer')`"
   ]
  },
  {
   "cell_type": "code",
   "execution_count": null,
   "id": "67690706",
   "metadata": {
    "pycharm": {
     "name": "#%%\n"
    }
   },
   "outputs": [],
   "source": [
    "# Sample code to help with the plots\n",
    "\n",
    "#import matplotlib as plt\n",
    "#%config InlineBackend.figure_format ='retina' #This makes your plot clearer\n",
    "\n",
    "\n",
    "#plot = *your df by date*[[*column*,'Abbreviation']].plot(kind='bar',figsize=(10,4))\n",
    "#plot.set_xticklabels(*your df by date*['Abbreviation']);"
   ]
  },
  {
   "cell_type": "code",
   "execution_count": 341,
   "id": "f2f0411e",
   "metadata": {
    "pycharm": {
     "name": "#%%\n"
    }
   },
   "outputs": [
    {
     "data": {
      "image/png": "[encoded data removed]",
      "text/plain": [
       "<Figure size 720x288 with 1 Axes>"
      ]
     },
     "metadata": {
      "needs_background": "light"
     },
     "output_type": "display_data"
    }
   ],
   "source": [
    "#9\n",
    "facts9 = merged.sort_values(by = \"Date\")\n",
    "plot = facts9[['city_1_pop','Abbreviation']].plot(kind='bar', figsize=(10,4), color='black')\n",
    "plot.set_xticklabels(facts9['Abbreviation']);"
   ]
  },
  {
   "cell_type": "code",
   "execution_count": 339,
   "id": "e454471e-7d39-4f3a-8dc8-dfba1ea8af76",
   "metadata": {},
   "outputs": [
    {
     "data": {
      "image/png": "[encoded data removed]",
      "text/plain": [
       "<Figure size 720x288 with 1 Axes>"
      ]
     },
     "metadata": {
      "needs_background": "light"
     },
     "output_type": "display_data"
    }
   ],
   "source": [
    "#10\n",
    "facts9 = merged.sort_values(by = \"Date\")\n",
    "plot = facts9[['Area_land','Abbreviation']].plot(kind='bar', figsize=(10,4), color='green')\n",
    "plot.set_xticklabels(facts9['Abbreviation']);"
   ]
  },
  {
   "cell_type": "code",
   "execution_count": 340,
   "id": "c98d91b3-8479-49ce-84c3-d3c92a597172",
   "metadata": {},
   "outputs": [
    {
     "data": {
      "image/png": "[encoded data removed]",
      "text/plain": [
       "<Figure size 720x288 with 1 Axes>"
      ]
     },
     "metadata": {
      "needs_background": "light"
     },
     "output_type": "display_data"
    }
   ],
   "source": [
    "facts9 = merged.sort_values(by = \"Date\")\n",
    "plot = facts9[['Area_water','Abbreviation']].plot(kind='bar', figsize=(10,4), color='blue')\n",
    "plot.set_xticklabels(facts9['Abbreviation']);"
   ]
  },
  {
   "cell_type": "code",
   "execution_count": null,
   "id": "f812255a-107a-41ce-b422-a5a02cf7f2b8",
   "metadata": {},
   "outputs": [],
   "source": []
  }
 ],
 "metadata": {
  "jupytext": {
   "formats": "ipynb"
  },
  "kernelspec": {
   "display_name": "Python 3 (ipykernel)",
   "language": "python",
   "name": "python3"
  },
  "language_info": {
   "codemirror_mode": {
    "name": "ipython",
    "version": 3
   },
   "file_extension": ".py",
   "mimetype": "text/x-python",
   "name": "python",
   "nbconvert_exporter": "python",
   "pygments_lexer": "ipython3",
   "version": "3.9.12"
  }
 },
 "nbformat": 4,
 "nbformat_minor": 5
}
